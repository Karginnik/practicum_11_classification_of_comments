{
 "cells": [
  {
   "cell_type": "markdown",
   "metadata": {},
   "source": [
    "# Проект для «Викишоп»"
   ]
  },
  {
   "cell_type": "markdown",
   "metadata": {},
   "source": [
    "Интернет-магазин «Викишоп» запускает новый сервис. Теперь пользователи могут редактировать и дополнять описания товаров, как в вики-сообществах. То есть клиенты предлагают свои правки и комментируют изменения других. Магазину нужен инструмент, который будет искать токсичные комментарии и отправлять их на модерацию. \n",
    "\n",
    "Обучите модель классифицировать комментарии на позитивные и негативные. В вашем распоряжении набор данных с разметкой о токсичности правок.\n",
    "\n",
    "Постройте модель со значением метрики качества *F1* не меньше 0.75. \n",
    "\n",
    "**Инструкция по выполнению проекта**\n",
    "\n",
    "1. Загрузите и подготовьте данные.\n",
    "2. Обучите разные модели. \n",
    "3. Сделайте выводы.\n",
    "\n",
    "Для выполнения проекта применять *BERT* необязательно, но вы можете попробовать.\n",
    "\n",
    "**Описание данных**\n",
    "\n",
    "Данные находятся в файле `toxic_comments.csv`. Столбец *text* в нём содержит текст комментария, а *toxic* — целевой признак."
   ]
  },
  {
   "cell_type": "markdown",
   "metadata": {},
   "source": [
    "## Подготовка"
   ]
  },
  {
   "cell_type": "markdown",
   "metadata": {},
   "source": [
    "Загрузим необходимые библиотеки "
   ]
  },
  {
   "cell_type": "code",
   "execution_count": 1,
   "metadata": {},
   "outputs": [],
   "source": [
    "import nltk\n",
    "import os\n",
    "import re\n",
    "import numpy as np\n",
    "import pandas as pd\n",
    "from nltk.corpus import stopwords as nltk_stopwords, wordnet\n",
    "from nltk.stem import WordNetLemmatizer\n",
    "from pymystem3 import Mystem\n",
    "from sklearn.feature_extraction.text import TfidfVectorizer\n",
    "from sklearn.linear_model import LogisticRegression\n",
    "from sklearn.tree import DecisionTreeClassifier\n",
    "from sklearn.ensemble import RandomForestClassifier\n",
    "from sklearn.model_selection import train_test_split, GridSearchCV\n",
    "from sklearn.metrics import f1_score\n",
    "from sklearn.dummy import DummyClassifier\n",
    "from sklearn.pipeline import Pipeline"
   ]
  },
  {
   "cell_type": "markdown",
   "metadata": {},
   "source": [
    "Загрузим необходимый датафрейм"
   ]
  },
  {
   "cell_type": "code",
   "execution_count": 2,
   "metadata": {},
   "outputs": [],
   "source": [
    "pth = '/datasets/toxic_comments.csv'\n",
    "\n",
    "if os.path.exists(pth):\n",
    "    data = pd.read_csv(pth)\n",
    "    data_prophet = pd.read_csv(pth)\n",
    "else:\n",
    "    print('Something is wrong')"
   ]
  },
  {
   "cell_type": "markdown",
   "metadata": {},
   "source": [
    "Выведем первые 10 строчек датафрейма и общую информацию"
   ]
  },
  {
   "cell_type": "code",
   "execution_count": 3,
   "metadata": {},
   "outputs": [
    {
     "data": {
      "text/html": [
       "<div>\n",
       "<style scoped>\n",
       "    .dataframe tbody tr th:only-of-type {\n",
       "        vertical-align: middle;\n",
       "    }\n",
       "\n",
       "    .dataframe tbody tr th {\n",
       "        vertical-align: top;\n",
       "    }\n",
       "\n",
       "    .dataframe thead th {\n",
       "        text-align: right;\n",
       "    }\n",
       "</style>\n",
       "<table border=\"1\" class=\"dataframe\">\n",
       "  <thead>\n",
       "    <tr style=\"text-align: right;\">\n",
       "      <th></th>\n",
       "      <th>Unnamed: 0</th>\n",
       "      <th>text</th>\n",
       "      <th>toxic</th>\n",
       "    </tr>\n",
       "  </thead>\n",
       "  <tbody>\n",
       "    <tr>\n",
       "      <th>0</th>\n",
       "      <td>0</td>\n",
       "      <td>Explanation\\nWhy the edits made under my usern...</td>\n",
       "      <td>0</td>\n",
       "    </tr>\n",
       "    <tr>\n",
       "      <th>1</th>\n",
       "      <td>1</td>\n",
       "      <td>D'aww! He matches this background colour I'm s...</td>\n",
       "      <td>0</td>\n",
       "    </tr>\n",
       "    <tr>\n",
       "      <th>2</th>\n",
       "      <td>2</td>\n",
       "      <td>Hey man, I'm really not trying to edit war. It...</td>\n",
       "      <td>0</td>\n",
       "    </tr>\n",
       "    <tr>\n",
       "      <th>3</th>\n",
       "      <td>3</td>\n",
       "      <td>\"\\nMore\\nI can't make any real suggestions on ...</td>\n",
       "      <td>0</td>\n",
       "    </tr>\n",
       "    <tr>\n",
       "      <th>4</th>\n",
       "      <td>4</td>\n",
       "      <td>You, sir, are my hero. Any chance you remember...</td>\n",
       "      <td>0</td>\n",
       "    </tr>\n",
       "    <tr>\n",
       "      <th>5</th>\n",
       "      <td>5</td>\n",
       "      <td>\"\\n\\nCongratulations from me as well, use the ...</td>\n",
       "      <td>0</td>\n",
       "    </tr>\n",
       "    <tr>\n",
       "      <th>6</th>\n",
       "      <td>6</td>\n",
       "      <td>COCKSUCKER BEFORE YOU PISS AROUND ON MY WORK</td>\n",
       "      <td>1</td>\n",
       "    </tr>\n",
       "    <tr>\n",
       "      <th>7</th>\n",
       "      <td>7</td>\n",
       "      <td>Your vandalism to the Matt Shirvington article...</td>\n",
       "      <td>0</td>\n",
       "    </tr>\n",
       "    <tr>\n",
       "      <th>8</th>\n",
       "      <td>8</td>\n",
       "      <td>Sorry if the word 'nonsense' was offensive to ...</td>\n",
       "      <td>0</td>\n",
       "    </tr>\n",
       "    <tr>\n",
       "      <th>9</th>\n",
       "      <td>9</td>\n",
       "      <td>alignment on this subject and which are contra...</td>\n",
       "      <td>0</td>\n",
       "    </tr>\n",
       "  </tbody>\n",
       "</table>\n",
       "</div>"
      ],
      "text/plain": [
       "   Unnamed: 0                                               text  toxic\n",
       "0           0  Explanation\\nWhy the edits made under my usern...      0\n",
       "1           1  D'aww! He matches this background colour I'm s...      0\n",
       "2           2  Hey man, I'm really not trying to edit war. It...      0\n",
       "3           3  \"\\nMore\\nI can't make any real suggestions on ...      0\n",
       "4           4  You, sir, are my hero. Any chance you remember...      0\n",
       "5           5  \"\\n\\nCongratulations from me as well, use the ...      0\n",
       "6           6       COCKSUCKER BEFORE YOU PISS AROUND ON MY WORK      1\n",
       "7           7  Your vandalism to the Matt Shirvington article...      0\n",
       "8           8  Sorry if the word 'nonsense' was offensive to ...      0\n",
       "9           9  alignment on this subject and which are contra...      0"
      ]
     },
     "execution_count": 3,
     "metadata": {},
     "output_type": "execute_result"
    }
   ],
   "source": [
    "data.head(10)"
   ]
  },
  {
   "cell_type": "code",
   "execution_count": 4,
   "metadata": {},
   "outputs": [
    {
     "name": "stdout",
     "output_type": "stream",
     "text": [
      "<class 'pandas.core.frame.DataFrame'>\n",
      "RangeIndex: 159292 entries, 0 to 159291\n",
      "Data columns (total 3 columns):\n",
      " #   Column      Non-Null Count   Dtype \n",
      "---  ------      --------------   ----- \n",
      " 0   Unnamed: 0  159292 non-null  int64 \n",
      " 1   text        159292 non-null  object\n",
      " 2   toxic       159292 non-null  int64 \n",
      "dtypes: int64(2), object(1)\n",
      "memory usage: 3.6+ MB\n"
     ]
    }
   ],
   "source": [
    "data.info()"
   ]
  },
  {
   "cell_type": "markdown",
   "metadata": {},
   "source": [
    "В датафрейме присутствует столбец \"Unnamed: 0\" не несущий пользы для обучения модели, удалим его"
   ]
  },
  {
   "cell_type": "code",
   "execution_count": 5,
   "metadata": {},
   "outputs": [],
   "source": [
    "data = data.drop('Unnamed: 0', axis=1)"
   ]
  },
  {
   "cell_type": "markdown",
   "metadata": {},
   "source": [
    "Разобьем датафрейм на выборку с целевыми признаками и на выборку с таргетными признаками "
   ]
  },
  {
   "cell_type": "code",
   "execution_count": 6,
   "metadata": {},
   "outputs": [],
   "source": [
    "features = data['text']\n",
    "target = data['toxic']"
   ]
  },
  {
   "cell_type": "markdown",
   "metadata": {},
   "source": [
    "Изучим баланс классов"
   ]
  },
  {
   "cell_type": "code",
   "execution_count": 7,
   "metadata": {},
   "outputs": [
    {
     "name": "stdout",
     "output_type": "stream",
     "text": [
      "В выборке процент класса \"1\" составляет: 10.16%\n",
      "В выборке процент класса \"0\" составляет: 89.84%\n"
     ]
    }
   ],
   "source": [
    "proc_one = target[target==1].count() / len(data) * 100\n",
    "proc_ziro = target[target==0].count() / len(data) * 100\n",
    "print(f'В выборке процент класса \"1\" составляет: {proc_one:.2f}%\\n\\\n",
    "В выборке процент класса \"0\" составляет: {proc_ziro:.2f}%')"
   ]
  },
  {
   "cell_type": "markdown",
   "metadata": {},
   "source": [
    "Создадим функцию для лемматизации и чистки текста от лишних символов "
   ]
  },
  {
   "cell_type": "code",
   "execution_count": 8,
   "metadata": {},
   "outputs": [
    {
     "name": "stderr",
     "output_type": "stream",
     "text": [
      "[nltk_data] Downloading package averaged_perceptron_tagger to\n",
      "[nltk_data]     /home/jovyan/nltk_data...\n",
      "[nltk_data]   Package averaged_perceptron_tagger is already up-to-\n",
      "[nltk_data]       date!\n"
     ]
    },
    {
     "data": {
      "text/plain": [
       "True"
      ]
     },
     "execution_count": 8,
     "metadata": {},
     "output_type": "execute_result"
    }
   ],
   "source": [
    "nltk.download('averaged_perceptron_tagger')"
   ]
  },
  {
   "cell_type": "code",
   "execution_count": 9,
   "metadata": {},
   "outputs": [],
   "source": [
    "def get_wordnet_pos(word):\n",
    "    tag = nltk.pos_tag([word])[0][1][0].upper()\n",
    "    tag_dict = {\"J\": wordnet.ADJ,\n",
    "                \"N\": wordnet.NOUN,\n",
    "                \"V\": wordnet.VERB,\n",
    "                \"R\": wordnet.ADV}\n",
    "    \n",
    "    return tag_dict.get(tag, wordnet.NOUN)"
   ]
  },
  {
   "cell_type": "code",
   "execution_count": 10,
   "metadata": {},
   "outputs": [],
   "source": [
    "def lem_func(data):\n",
    "    lemmatizer = WordNetLemmatizer()\n",
    "    lem_text = []\n",
    "    for i in range(len(data)):\n",
    "        lem = \" \".join([lemmatizer.lemmatize(w, get_wordnet_pos(w)) for w in nltk.word_tokenize(data[i])])\n",
    "        resub = re.sub(r'[^a-zA-Z]',' ', lem)\n",
    "        resub_split = resub.split()\n",
    "        res = \" \".join(resub_split)\n",
    "        lem_text.append(res)\n",
    "    \n",
    "    return lem_text"
   ]
  },
  {
   "cell_type": "markdown",
   "metadata": {},
   "source": [
    "Применим созданную ранее функцию "
   ]
  },
  {
   "cell_type": "code",
   "execution_count": 11,
   "metadata": {},
   "outputs": [],
   "source": [
    "features_lem = lem_func(features)\n",
    "features_lem = pd.Series(features_lem, index=features.index)"
   ]
  },
  {
   "cell_type": "markdown",
   "metadata": {},
   "source": [
    "Разобьем выборки с целевыми и таргетными признаками на обучающую и тестовую выборку"
   ]
  },
  {
   "cell_type": "code",
   "execution_count": 12,
   "metadata": {},
   "outputs": [],
   "source": [
    "features_train, features_test, target_train, target_test = train_test_split(features_lem, target, test_size=0.25)"
   ]
  },
  {
   "cell_type": "markdown",
   "metadata": {},
   "source": [
    "Загрузим функцию для очистки от стоп-слов "
   ]
  },
  {
   "cell_type": "code",
   "execution_count": 13,
   "metadata": {},
   "outputs": [
    {
     "name": "stderr",
     "output_type": "stream",
     "text": [
      "[nltk_data] Downloading package stopwords to /home/jovyan/nltk_data...\n",
      "[nltk_data]   Package stopwords is already up-to-date!\n"
     ]
    }
   ],
   "source": [
    "nltk.download('stopwords')\n",
    "stopwords = set(nltk_stopwords.words('english'))"
   ]
  },
  {
   "cell_type": "markdown",
   "metadata": {},
   "source": [
    "Вычислим TF-IDF для корпуса текстов"
   ]
  },
  {
   "cell_type": "code",
   "execution_count": 14,
   "metadata": {},
   "outputs": [],
   "source": [
    "count_tf_idf = TfidfVectorizer(stop_words=stopwords) \n",
    "tf_idf_train = count_tf_idf.fit_transform(features_train)\n",
    "tf_idf_test = count_tf_idf.transform(features_test)"
   ]
  },
  {
   "cell_type": "markdown",
   "metadata": {},
   "source": [
    "Проверим размерность полученных выборок"
   ]
  },
  {
   "cell_type": "code",
   "execution_count": 15,
   "metadata": {},
   "outputs": [
    {
     "data": {
      "text/plain": [
       "((119469, 135548), (39823, 135548), (119469,), (39823,))"
      ]
     },
     "execution_count": 15,
     "metadata": {},
     "output_type": "execute_result"
    }
   ],
   "source": [
    "tf_idf_train.shape, tf_idf_test.shape, target_train.shape, target_test.shape"
   ]
  },
  {
   "cell_type": "markdown",
   "metadata": {},
   "source": [
    "В данном разделе была произведена подготовка датафрейма для обучения моделей, а именно: Удалены не несущие пользы столбцы, произведена лемматизация, произведена очистка от лишних символов и стоп-слов, созданы выборки для обучения и теста."
   ]
  },
  {
   "cell_type": "markdown",
   "metadata": {},
   "source": [
    "## Обучение"
   ]
  },
  {
   "cell_type": "markdown",
   "metadata": {},
   "source": [
    "Обучим логистическую регрессию и найдем F1-меру с помощью кросс-валидации "
   ]
  },
  {
   "cell_type": "code",
   "execution_count": 16,
   "metadata": {},
   "outputs": [
    {
     "data": {
      "text/plain": [
       "0.7590438049262794"
      ]
     },
     "execution_count": 16,
     "metadata": {},
     "output_type": "execute_result"
    }
   ],
   "source": [
    "param_lr = {'C':range(1, 16, 2)}\n",
    "model_lr = LogisticRegression(solver='liblinear', random_state=12345, class_weight='balanced', max_iter=200)\n",
    "gs_lr = GridSearchCV(estimator=model_lr, param_grid=param_lr, cv=3, scoring='f1')\n",
    "gs_lr.fit(tf_idf_train, target_train)\n",
    "gs_lr.best_score_"
   ]
  },
  {
   "cell_type": "markdown",
   "metadata": {},
   "source": [
    "Обучим дерево решений и найдем F1-меру с помощью кросс-валидации "
   ]
  },
  {
   "cell_type": "code",
   "execution_count": 17,
   "metadata": {},
   "outputs": [
    {
     "data": {
      "text/plain": [
       "0.5894772458450557"
      ]
     },
     "execution_count": 17,
     "metadata": {},
     "output_type": "execute_result"
    }
   ],
   "source": [
    "param_tree = {'max_depth':range(1, 16), 'min_samples_split':range(2,12,2), 'min_samples_leaf':range(1,11,2)}\n",
    "model_tree = DecisionTreeClassifier(random_state=12345, class_weight='balanced')\n",
    "gs_tree = GridSearchCV(estimator=model_tree, param_grid=param_tree, cv=3, scoring='f1')\n",
    "gs_tree.fit(tf_idf_train, target_train)\n",
    "gs_tree.best_score_"
   ]
  },
  {
   "cell_type": "markdown",
   "metadata": {},
   "source": [
    "Обучим случайный лес и найдем F1-меру с помощью кросс-валидации "
   ]
  },
  {
   "cell_type": "code",
   "execution_count": 18,
   "metadata": {},
   "outputs": [
    {
     "data": {
      "text/plain": [
       "0.3956651362509355"
      ]
     },
     "execution_count": 18,
     "metadata": {},
     "output_type": "execute_result"
    }
   ],
   "source": [
    "param_rf = {'max_depth':range(1, 16),'n_estimators':range(2, 103, 10)}\n",
    "model_rf = RandomForestClassifier(random_state=12345, class_weight='balanced')\n",
    "gs_rf = GridSearchCV(estimator=model_rf, param_grid=param_rf, cv=3, scoring='f1')\n",
    "gs_rf.fit(tf_idf_train, target_train)\n",
    "gs_rf.best_score_"
   ]
  },
  {
   "cell_type": "markdown",
   "metadata": {},
   "source": [
    "Лучше всех себя показала модель логистической регрессии с параметром F1 - 0.766 на кросс-валидации, ее и возьмем для финального тестирования "
   ]
  },
  {
   "cell_type": "markdown",
   "metadata": {},
   "source": [
    "Проведем финальное тестирования на лучшей модели"
   ]
  },
  {
   "cell_type": "code",
   "execution_count": 19,
   "metadata": {},
   "outputs": [
    {
     "data": {
      "text/plain": [
       "0.7569167710349538"
      ]
     },
     "execution_count": 19,
     "metadata": {},
     "output_type": "execute_result"
    }
   ],
   "source": [
    "model_lr = gs_lr.best_estimator_\n",
    "model_lr.fit(tf_idf_train, target_train)\n",
    "predict = model_lr.predict(tf_idf_test)\n",
    "f1_score(target_test, predict)"
   ]
  },
  {
   "cell_type": "markdown",
   "metadata": {},
   "source": [
    "На финальном тестировании значение F1 - 0.757, порог для прохождения модели 0.75. Результат итогового тестирования - успешный"
   ]
  },
  {
   "cell_type": "markdown",
   "metadata": {},
   "source": [
    "Оценим адекватность предсказаний лучшей модели с помощью dummyclassifier’a"
   ]
  },
  {
   "cell_type": "code",
   "execution_count": 20,
   "metadata": {},
   "outputs": [
    {
     "data": {
      "text/plain": [
       "0.18329873862366278"
      ]
     },
     "execution_count": 20,
     "metadata": {},
     "output_type": "execute_result"
    }
   ],
   "source": [
    "dummy_model = DummyClassifier(strategy='constant', constant = 1)\n",
    "dummy_model.fit(tf_idf_train, target_train)\n",
    "dummy_predict = dummy_model.predict(tf_idf_test)\n",
    "f1_score(target_test, dummy_predict)"
   ]
  },
  {
   "cell_type": "markdown",
   "metadata": {},
   "source": [
    "Результат F1 dammy-модели - 0.183, результат лучшей модели 0.757. Тест на адекватность предсказаний пройден успешно. "
   ]
  },
  {
   "cell_type": "markdown",
   "metadata": {},
   "source": [
    "В данном разделе было произведено обучение 3 различных моделей с помощью кросс-валидации, а именно: \n",
    "- Логистическая регрессия – Параметр F1 – 0.759\n",
    "- Дерево решений – Параметр F1 – 0.589\n",
    "- Случайный лес – Параметр F1 – 0.396\n",
    "\n",
    "Лучше всего себя показала модели логистической регрессии, ее и взяли для финального тестирования. На финальном тестировании логистическая регрессия показала результат F1 – 0.757, что выше необходимого порога в 0.75. Также модель сравнили с dummy-моделью для определение адекватности предсказаний, модель логистической регрессии показала результат F1 лучше на 0.579. \n"
   ]
  },
  {
   "cell_type": "markdown",
   "metadata": {},
   "source": [
    "## Выводы"
   ]
  },
  {
   "cell_type": "markdown",
   "metadata": {},
   "source": [
    "В разделе 'Подотовка' была произведена подготовка датафрейма для обучения моделей, а именно: Удалены не несущие пользы столбцы, произведена лемматизация, произведена очистка от лишних символов и стоп-слов, созданы выборки для обучения и теста.\n",
    "\n",
    "В данном разделе было произведено обучение 3 различных моделей с помощью кросс-валидации, а именно: \n",
    "- Логистическая регрессия – Параметр F1 – 0.759\n",
    "- Дерево решений – Параметр F1 – 0.589\n",
    "- Случайный лес – Параметр F1 – 0.396\n",
    "\n",
    "Лучше всего себя показала модели логистической регрессии, ее и взяли для финального тестирования. На финальном тестировании логистическая регрессия показала результат F1 – 0.757, что выше необходимого порога в 0.75. Также модель сравнили с dummy-моделью для определение адекватности предсказаний, модель логистической регрессии показала результат F1 лучше на 0.579. \n"
   ]
  }
 ],
 "metadata": {
  "ExecuteTimeLog": [
   {
    "duration": 1377,
    "start_time": "2023-04-07T09:26:54.538Z"
   },
   {
    "duration": 154,
    "start_time": "2023-04-07T09:26:56.641Z"
   },
   {
    "duration": 3288,
    "start_time": "2023-04-07T09:27:24.471Z"
   },
   {
    "duration": 14,
    "start_time": "2023-04-07T09:27:36.415Z"
   },
   {
    "duration": 7,
    "start_time": "2023-04-07T09:27:43.607Z"
   },
   {
    "duration": 26,
    "start_time": "2023-04-07T09:27:50.633Z"
   },
   {
    "duration": 8,
    "start_time": "2023-04-07T09:28:41.743Z"
   },
   {
    "duration": 8,
    "start_time": "2023-04-07T09:30:34.094Z"
   },
   {
    "duration": 161,
    "start_time": "2023-04-07T09:31:42.751Z"
   },
   {
    "duration": 9,
    "start_time": "2023-04-07T09:31:43.606Z"
   },
   {
    "duration": 1822,
    "start_time": "2023-04-07T09:32:48.276Z"
   },
   {
    "duration": 1498,
    "start_time": "2023-04-07T09:33:15.723Z"
   },
   {
    "duration": 1804,
    "start_time": "2023-04-07T09:33:17.223Z"
   },
   {
    "duration": 20,
    "start_time": "2023-04-07T09:33:19.028Z"
   },
   {
    "duration": 75,
    "start_time": "2023-04-07T09:33:19.049Z"
   },
   {
    "duration": 10,
    "start_time": "2023-04-07T09:33:19.127Z"
   },
   {
    "duration": 36,
    "start_time": "2023-04-07T09:33:19.139Z"
   },
   {
    "duration": 86,
    "start_time": "2023-04-07T09:33:19.177Z"
   },
   {
    "duration": 157,
    "start_time": "2023-04-07T09:33:19.265Z"
   },
   {
    "duration": 0,
    "start_time": "2023-04-07T09:33:19.424Z"
   },
   {
    "duration": 4,
    "start_time": "2023-04-07T09:35:26.742Z"
   },
   {
    "duration": 699,
    "start_time": "2023-04-07T09:37:29.051Z"
   },
   {
    "duration": 675,
    "start_time": "2023-04-07T09:38:13.783Z"
   },
   {
    "duration": 99,
    "start_time": "2023-04-07T09:39:59.898Z"
   },
   {
    "duration": 4426,
    "start_time": "2023-04-07T09:40:04.778Z"
   },
   {
    "duration": 43,
    "start_time": "2023-04-07T09:40:11.034Z"
   },
   {
    "duration": 14,
    "start_time": "2023-04-07T09:42:06.226Z"
   },
   {
    "duration": 32,
    "start_time": "2023-04-07T09:42:41.410Z"
   },
   {
    "duration": 4818,
    "start_time": "2023-04-07T09:44:02.306Z"
   },
   {
    "duration": 4414,
    "start_time": "2023-04-07T09:44:08.722Z"
   },
   {
    "duration": 4711,
    "start_time": "2023-04-07T09:44:43.382Z"
   },
   {
    "duration": 45,
    "start_time": "2023-04-07T09:46:26.714Z"
   },
   {
    "duration": 4587,
    "start_time": "2023-04-07T09:48:47.616Z"
   },
   {
    "duration": 21,
    "start_time": "2023-04-07T09:48:52.205Z"
   },
   {
    "duration": 3,
    "start_time": "2023-04-07T09:59:56.918Z"
   },
   {
    "duration": 10,
    "start_time": "2023-04-07T09:59:57.481Z"
   },
   {
    "duration": 4,
    "start_time": "2023-04-07T10:03:01.040Z"
   },
   {
    "duration": 3778,
    "start_time": "2023-04-07T10:03:32.589Z"
   },
   {
    "duration": 5296,
    "start_time": "2023-04-07T10:05:00.201Z"
   },
   {
    "duration": 215,
    "start_time": "2023-04-07T10:05:21.408Z"
   },
   {
    "duration": 230,
    "start_time": "2023-04-07T10:06:25.872Z"
   },
   {
    "duration": 4,
    "start_time": "2023-04-07T10:06:42.399Z"
   },
   {
    "duration": 5,
    "start_time": "2023-04-07T10:09:40.166Z"
   },
   {
    "duration": 15263,
    "start_time": "2023-04-07T10:11:45.708Z"
   },
   {
    "duration": 4830,
    "start_time": "2023-04-07T10:14:58.195Z"
   },
   {
    "duration": 3839,
    "start_time": "2023-04-07T10:17:28.171Z"
   },
   {
    "duration": 102398,
    "start_time": "2023-04-07T10:18:41.123Z"
   },
   {
    "duration": 2676097,
    "start_time": "2023-04-07T10:20:23.523Z"
   },
   {
    "duration": 0,
    "start_time": "2023-04-07T11:04:59.623Z"
   },
   {
    "duration": 1579,
    "start_time": "2023-04-07T11:05:37.949Z"
   },
   {
    "duration": 1851,
    "start_time": "2023-04-07T11:05:39.530Z"
   },
   {
    "duration": 17,
    "start_time": "2023-04-07T11:05:41.385Z"
   },
   {
    "duration": 27,
    "start_time": "2023-04-07T11:05:41.404Z"
   },
   {
    "duration": 30,
    "start_time": "2023-04-07T11:05:41.432Z"
   },
   {
    "duration": 10,
    "start_time": "2023-04-07T11:05:41.463Z"
   },
   {
    "duration": 6,
    "start_time": "2023-04-07T11:05:41.474Z"
   },
   {
    "duration": 13,
    "start_time": "2023-04-07T11:05:41.482Z"
   },
   {
    "duration": 8,
    "start_time": "2023-04-07T11:05:41.496Z"
   },
   {
    "duration": 7810,
    "start_time": "2023-04-07T11:05:41.506Z"
   },
   {
    "duration": 210,
    "start_time": "2023-04-07T11:05:49.318Z"
   },
   {
    "duration": 486,
    "start_time": "2023-04-07T11:05:49.531Z"
   },
   {
    "duration": 4,
    "start_time": "2023-04-07T11:05:50.020Z"
   },
   {
    "duration": 10425,
    "start_time": "2023-04-07T11:05:50.025Z"
   },
   {
    "duration": 5144,
    "start_time": "2023-04-07T11:06:00.451Z"
   },
   {
    "duration": 86888,
    "start_time": "2023-04-07T11:06:05.597Z"
   },
   {
    "duration": 3191341,
    "start_time": "2023-04-07T11:07:32.488Z"
   },
   {
    "duration": 8,
    "start_time": "2023-04-07T12:00:43.832Z"
   },
   {
    "duration": 1571,
    "start_time": "2023-04-07T12:34:07.414Z"
   },
   {
    "duration": 2083,
    "start_time": "2023-04-07T12:34:08.988Z"
   },
   {
    "duration": 21,
    "start_time": "2023-04-07T12:34:11.073Z"
   },
   {
    "duration": 33,
    "start_time": "2023-04-07T12:34:11.096Z"
   },
   {
    "duration": 21,
    "start_time": "2023-04-07T12:34:11.132Z"
   },
   {
    "duration": 43,
    "start_time": "2023-04-07T12:34:11.155Z"
   },
   {
    "duration": 8,
    "start_time": "2023-04-07T12:34:11.200Z"
   },
   {
    "duration": 18,
    "start_time": "2023-04-07T12:34:11.210Z"
   },
   {
    "duration": 4,
    "start_time": "2023-04-07T12:34:11.230Z"
   },
   {
    "duration": 36306,
    "start_time": "2023-04-07T12:34:11.236Z"
   },
   {
    "duration": 240,
    "start_time": "2023-04-07T12:34:47.544Z"
   },
   {
    "duration": 2420,
    "start_time": "2023-04-07T12:34:47.786Z"
   },
   {
    "duration": 3,
    "start_time": "2023-04-07T12:34:50.208Z"
   },
   {
    "duration": 59839,
    "start_time": "2023-04-07T12:34:50.213Z"
   },
   {
    "duration": 56517,
    "start_time": "2023-04-07T12:35:50.053Z"
   },
   {
    "duration": 495322,
    "start_time": "2023-04-07T12:36:46.574Z"
   },
   {
    "duration": 7002097,
    "start_time": "2023-04-07T12:45:01.898Z"
   },
   {
    "duration": 0,
    "start_time": "2023-04-07T14:41:43.996Z"
   },
   {
    "duration": 21,
    "start_time": "2023-04-07T14:43:09.206Z"
   },
   {
    "duration": 21,
    "start_time": "2023-04-07T14:43:14.653Z"
   },
   {
    "duration": 11,
    "start_time": "2023-04-07T14:43:42.622Z"
   },
   {
    "duration": 18,
    "start_time": "2023-04-07T14:43:50.414Z"
   },
   {
    "duration": 4,
    "start_time": "2023-04-07T14:43:59.374Z"
   },
   {
    "duration": 34,
    "start_time": "2023-04-07T14:44:12.855Z"
   },
   {
    "duration": 10,
    "start_time": "2023-04-07T14:44:15.086Z"
   },
   {
    "duration": 22,
    "start_time": "2023-04-07T14:45:56.046Z"
   },
   {
    "duration": 9,
    "start_time": "2023-04-07T14:45:56.585Z"
   },
   {
    "duration": 1391,
    "start_time": "2023-04-07T14:46:24.426Z"
   },
   {
    "duration": 1817,
    "start_time": "2023-04-07T14:46:25.819Z"
   },
   {
    "duration": 28,
    "start_time": "2023-04-07T14:46:27.639Z"
   },
   {
    "duration": 33,
    "start_time": "2023-04-07T14:46:27.670Z"
   },
   {
    "duration": 9,
    "start_time": "2023-04-07T14:46:27.705Z"
   },
   {
    "duration": 28,
    "start_time": "2023-04-07T14:46:27.715Z"
   },
   {
    "duration": 17,
    "start_time": "2023-04-07T14:46:27.745Z"
   },
   {
    "duration": 17,
    "start_time": "2023-04-07T14:46:27.763Z"
   },
   {
    "duration": 6,
    "start_time": "2023-04-07T14:46:27.782Z"
   },
   {
    "duration": 4578,
    "start_time": "2023-04-07T14:46:27.791Z"
   },
   {
    "duration": 147,
    "start_time": "2023-04-07T14:46:32.371Z"
   },
   {
    "duration": 214,
    "start_time": "2023-04-07T14:46:32.520Z"
   },
   {
    "duration": 4,
    "start_time": "2023-04-07T14:46:32.737Z"
   },
   {
    "duration": 11526,
    "start_time": "2023-04-07T14:46:32.748Z"
   },
   {
    "duration": 2061,
    "start_time": "2023-04-07T14:46:44.276Z"
   },
   {
    "duration": 53851,
    "start_time": "2023-04-07T14:46:46.339Z"
   },
   {
    "duration": 177322,
    "start_time": "2023-04-07T14:47:40.192Z"
   },
   {
    "duration": 0,
    "start_time": "2023-04-07T14:50:37.516Z"
   },
   {
    "duration": 1501,
    "start_time": "2023-04-07T14:51:01.845Z"
   },
   {
    "duration": 2158,
    "start_time": "2023-04-07T14:51:03.348Z"
   },
   {
    "duration": 15,
    "start_time": "2023-04-07T14:51:05.507Z"
   },
   {
    "duration": 57,
    "start_time": "2023-04-07T14:51:05.523Z"
   },
   {
    "duration": 41,
    "start_time": "2023-04-07T14:51:05.588Z"
   },
   {
    "duration": 32,
    "start_time": "2023-04-07T14:51:05.631Z"
   },
   {
    "duration": 3,
    "start_time": "2023-04-07T14:51:05.665Z"
   },
   {
    "duration": 31,
    "start_time": "2023-04-07T14:51:05.669Z"
   },
   {
    "duration": 4,
    "start_time": "2023-04-07T14:51:05.701Z"
   },
   {
    "duration": 4985,
    "start_time": "2023-04-07T14:51:05.707Z"
   },
   {
    "duration": 196,
    "start_time": "2023-04-07T14:51:10.694Z"
   },
   {
    "duration": 238,
    "start_time": "2023-04-07T14:51:10.892Z"
   },
   {
    "duration": 4,
    "start_time": "2023-04-07T14:51:11.132Z"
   },
   {
    "duration": 19820,
    "start_time": "2023-04-07T14:51:11.139Z"
   },
   {
    "duration": 2233,
    "start_time": "2023-04-07T14:51:30.960Z"
   },
   {
    "duration": 57747,
    "start_time": "2023-04-07T14:51:33.194Z"
   },
   {
    "duration": 268593,
    "start_time": "2023-04-07T14:52:30.942Z"
   },
   {
    "duration": 0,
    "start_time": "2023-04-07T14:56:59.536Z"
   },
   {
    "duration": 1577,
    "start_time": "2023-04-07T14:57:34.225Z"
   },
   {
    "duration": 1977,
    "start_time": "2023-04-07T14:57:35.804Z"
   },
   {
    "duration": 15,
    "start_time": "2023-04-07T14:57:37.783Z"
   },
   {
    "duration": 27,
    "start_time": "2023-04-07T14:57:37.799Z"
   },
   {
    "duration": 9,
    "start_time": "2023-04-07T14:57:37.828Z"
   },
   {
    "duration": 16,
    "start_time": "2023-04-07T14:57:37.839Z"
   },
   {
    "duration": 22,
    "start_time": "2023-04-07T14:57:37.856Z"
   },
   {
    "duration": 34,
    "start_time": "2023-04-07T14:57:37.880Z"
   },
   {
    "duration": 4,
    "start_time": "2023-04-07T14:57:37.915Z"
   },
   {
    "duration": 109712,
    "start_time": "2023-04-07T14:57:37.920Z"
   },
   {
    "duration": 202,
    "start_time": "2023-04-07T14:59:27.634Z"
   },
   {
    "duration": 7671,
    "start_time": "2023-04-07T14:59:27.838Z"
   },
   {
    "duration": 4,
    "start_time": "2023-04-07T14:59:35.511Z"
   },
   {
    "duration": 118343,
    "start_time": "2023-04-07T14:59:35.518Z"
   },
   {
    "duration": 269938,
    "start_time": "2023-04-07T15:01:33.862Z"
   },
   {
    "duration": 1626864,
    "start_time": "2023-04-07T15:06:03.802Z"
   },
   {
    "duration": 1332,
    "start_time": "2023-04-07T16:46:15.363Z"
   },
   {
    "duration": 1824,
    "start_time": "2023-04-07T16:46:16.697Z"
   },
   {
    "duration": 14,
    "start_time": "2023-04-07T16:46:18.523Z"
   },
   {
    "duration": 32,
    "start_time": "2023-04-07T16:46:18.539Z"
   },
   {
    "duration": 9,
    "start_time": "2023-04-07T16:46:18.573Z"
   },
   {
    "duration": 11,
    "start_time": "2023-04-07T16:46:18.584Z"
   },
   {
    "duration": 20,
    "start_time": "2023-04-07T16:46:18.596Z"
   },
   {
    "duration": 5,
    "start_time": "2023-04-07T16:46:18.617Z"
   },
   {
    "duration": 5,
    "start_time": "2023-04-07T16:46:18.623Z"
   },
   {
    "duration": 4420,
    "start_time": "2023-04-07T16:46:18.629Z"
   },
   {
    "duration": 218,
    "start_time": "2023-04-07T16:46:23.052Z"
   },
   {
    "duration": 212,
    "start_time": "2023-04-07T16:46:23.272Z"
   },
   {
    "duration": 4,
    "start_time": "2023-04-07T16:46:23.486Z"
   },
   {
    "duration": 10759,
    "start_time": "2023-04-07T16:46:23.492Z"
   },
   {
    "duration": 2202,
    "start_time": "2023-04-07T16:46:34.259Z"
   },
   {
    "duration": 20435,
    "start_time": "2023-04-07T16:46:36.463Z"
   },
   {
    "duration": 0,
    "start_time": "2023-04-07T16:46:56.900Z"
   },
   {
    "duration": 0,
    "start_time": "2023-04-07T16:46:56.901Z"
   },
   {
    "duration": 0,
    "start_time": "2023-04-07T16:46:56.902Z"
   },
   {
    "duration": 0,
    "start_time": "2023-04-07T16:46:56.903Z"
   },
   {
    "duration": 0,
    "start_time": "2023-04-07T16:46:56.904Z"
   },
   {
    "duration": 0,
    "start_time": "2023-04-07T16:46:56.905Z"
   },
   {
    "duration": 1294,
    "start_time": "2023-04-07T16:48:19.737Z"
   },
   {
    "duration": 1778,
    "start_time": "2023-04-07T16:48:21.033Z"
   },
   {
    "duration": 15,
    "start_time": "2023-04-07T16:48:22.813Z"
   },
   {
    "duration": 64,
    "start_time": "2023-04-07T16:48:22.830Z"
   },
   {
    "duration": 25,
    "start_time": "2023-04-07T16:48:22.895Z"
   },
   {
    "duration": 63,
    "start_time": "2023-04-07T16:48:22.922Z"
   },
   {
    "duration": 32,
    "start_time": "2023-04-07T16:48:22.987Z"
   },
   {
    "duration": 20,
    "start_time": "2023-04-07T16:48:23.021Z"
   },
   {
    "duration": 53,
    "start_time": "2023-04-07T16:48:23.042Z"
   },
   {
    "duration": 4546,
    "start_time": "2023-04-07T16:48:23.097Z"
   },
   {
    "duration": 215,
    "start_time": "2023-04-07T16:48:27.656Z"
   },
   {
    "duration": 215,
    "start_time": "2023-04-07T16:48:27.873Z"
   },
   {
    "duration": 4,
    "start_time": "2023-04-07T16:48:28.089Z"
   },
   {
    "duration": 9058,
    "start_time": "2023-04-07T16:48:28.094Z"
   },
   {
    "duration": 2205,
    "start_time": "2023-04-07T16:48:37.154Z"
   },
   {
    "duration": 50900,
    "start_time": "2023-04-07T16:48:39.361Z"
   },
   {
    "duration": 0,
    "start_time": "2023-04-07T17:41:31.092Z"
   },
   {
    "duration": 0,
    "start_time": "2023-04-07T17:41:31.094Z"
   },
   {
    "duration": 0,
    "start_time": "2023-04-07T17:41:31.095Z"
   },
   {
    "duration": 0,
    "start_time": "2023-04-07T17:41:31.097Z"
   },
   {
    "duration": 0,
    "start_time": "2023-04-07T17:41:31.100Z"
   },
   {
    "duration": 0,
    "start_time": "2023-04-07T17:41:31.102Z"
   },
   {
    "duration": 1423717,
    "start_time": "2023-04-07T17:42:37.204Z"
   },
   {
    "duration": 6,
    "start_time": "2023-04-07T18:06:20.923Z"
   },
   {
    "duration": 1228,
    "start_time": "2023-04-07T18:06:20.930Z"
   },
   {
    "duration": 101,
    "start_time": "2023-04-07T18:06:22.254Z"
   },
   {
    "duration": 0,
    "start_time": "2023-04-07T18:06:22.357Z"
   },
   {
    "duration": 0,
    "start_time": "2023-04-07T18:06:22.358Z"
   },
   {
    "duration": 15,
    "start_time": "2023-04-07T18:19:51.659Z"
   },
   {
    "duration": 109,
    "start_time": "2023-04-07T18:19:52.979Z"
   },
   {
    "duration": 6427,
    "start_time": "2023-04-07T18:19:53.555Z"
   },
   {
    "duration": 190070,
    "start_time": "2023-04-07T18:20:13.340Z"
   },
   {
    "duration": 1270,
    "start_time": "2023-04-07T18:24:12.545Z"
   },
   {
    "duration": 1787,
    "start_time": "2023-04-07T18:24:13.817Z"
   },
   {
    "duration": 15,
    "start_time": "2023-04-07T18:24:15.608Z"
   },
   {
    "duration": 31,
    "start_time": "2023-04-07T18:24:15.626Z"
   },
   {
    "duration": 9,
    "start_time": "2023-04-07T18:24:15.658Z"
   },
   {
    "duration": 5,
    "start_time": "2023-04-07T18:24:15.669Z"
   },
   {
    "duration": 16,
    "start_time": "2023-04-07T18:24:15.675Z"
   },
   {
    "duration": 7,
    "start_time": "2023-04-07T18:24:15.692Z"
   },
   {
    "duration": 16,
    "start_time": "2023-04-07T18:24:15.701Z"
   },
   {
    "duration": 4415,
    "start_time": "2023-04-07T18:24:15.718Z"
   },
   {
    "duration": 276,
    "start_time": "2023-04-07T18:24:20.135Z"
   },
   {
    "duration": 244,
    "start_time": "2023-04-07T18:24:20.412Z"
   },
   {
    "duration": 4,
    "start_time": "2023-04-07T18:24:20.659Z"
   },
   {
    "duration": 3886,
    "start_time": "2023-04-07T18:24:20.665Z"
   },
   {
    "duration": 2167,
    "start_time": "2023-04-07T18:24:24.553Z"
   },
   {
    "duration": 49145,
    "start_time": "2023-04-07T18:24:26.722Z"
   },
   {
    "duration": 1505380,
    "start_time": "2023-04-07T18:25:15.869Z"
   },
   {
    "duration": 6,
    "start_time": "2023-04-07T18:50:21.251Z"
   },
   {
    "duration": 3193,
    "start_time": "2023-04-07T18:50:21.258Z"
   },
   {
    "duration": 97,
    "start_time": "2023-04-07T18:50:24.453Z"
   },
   {
    "duration": 117,
    "start_time": "2023-04-07T18:50:24.552Z"
   },
   {
    "duration": 206694,
    "start_time": "2023-04-07T18:50:24.670Z"
   },
   {
    "duration": 1351,
    "start_time": "2023-04-07T18:59:37.197Z"
   },
   {
    "duration": 1827,
    "start_time": "2023-04-07T18:59:38.551Z"
   },
   {
    "duration": 17,
    "start_time": "2023-04-07T18:59:40.379Z"
   },
   {
    "duration": 29,
    "start_time": "2023-04-07T18:59:40.398Z"
   },
   {
    "duration": 9,
    "start_time": "2023-04-07T18:59:40.430Z"
   },
   {
    "duration": 2,
    "start_time": "2023-04-07T18:59:40.449Z"
   },
   {
    "duration": 26,
    "start_time": "2023-04-07T18:59:40.452Z"
   },
   {
    "duration": 17,
    "start_time": "2023-04-07T18:59:40.480Z"
   },
   {
    "duration": 19,
    "start_time": "2023-04-07T18:59:40.499Z"
   },
   {
    "duration": 16365,
    "start_time": "2023-04-07T18:59:40.520Z"
   },
   {
    "duration": 156,
    "start_time": "2023-04-07T18:59:56.888Z"
   },
   {
    "duration": 1028,
    "start_time": "2023-04-07T18:59:57.046Z"
   },
   {
    "duration": 4,
    "start_time": "2023-04-07T18:59:58.075Z"
   },
   {
    "duration": 17868,
    "start_time": "2023-04-07T18:59:58.082Z"
   },
   {
    "duration": 16566,
    "start_time": "2023-04-07T19:00:15.956Z"
   },
   {
    "duration": 195082,
    "start_time": "2023-04-07T19:00:32.524Z"
   },
   {
    "duration": 659856,
    "start_time": "2023-04-07T19:03:47.608Z"
   },
   {
    "duration": 0,
    "start_time": "2023-04-07T19:14:47.467Z"
   },
   {
    "duration": 0,
    "start_time": "2023-04-07T19:14:47.468Z"
   },
   {
    "duration": 0,
    "start_time": "2023-04-07T19:14:47.470Z"
   },
   {
    "duration": 0,
    "start_time": "2023-04-07T19:14:47.471Z"
   },
   {
    "duration": 0,
    "start_time": "2023-04-07T19:14:47.472Z"
   },
   {
    "duration": 9,
    "start_time": "2023-04-07T19:15:29.994Z"
   },
   {
    "duration": 1158,
    "start_time": "2023-04-07T19:15:34.818Z"
   },
   {
    "duration": 894,
    "start_time": "2023-04-07T19:15:45.602Z"
   },
   {
    "duration": 1438,
    "start_time": "2023-04-07T19:16:09.516Z"
   },
   {
    "duration": 1791,
    "start_time": "2023-04-07T19:16:10.956Z"
   },
   {
    "duration": 17,
    "start_time": "2023-04-07T19:16:12.749Z"
   },
   {
    "duration": 46,
    "start_time": "2023-04-07T19:16:12.768Z"
   },
   {
    "duration": 10,
    "start_time": "2023-04-07T19:16:12.817Z"
   },
   {
    "duration": 8,
    "start_time": "2023-04-07T19:16:12.828Z"
   },
   {
    "duration": 25,
    "start_time": "2023-04-07T19:16:12.838Z"
   },
   {
    "duration": 12,
    "start_time": "2023-04-07T19:16:12.865Z"
   },
   {
    "duration": 1100,
    "start_time": "2023-04-07T19:16:12.879Z"
   },
   {
    "duration": 0,
    "start_time": "2023-04-07T19:16:13.981Z"
   },
   {
    "duration": 0,
    "start_time": "2023-04-07T19:16:13.982Z"
   },
   {
    "duration": 0,
    "start_time": "2023-04-07T19:16:13.983Z"
   },
   {
    "duration": 0,
    "start_time": "2023-04-07T19:16:13.984Z"
   },
   {
    "duration": 0,
    "start_time": "2023-04-07T19:16:13.985Z"
   },
   {
    "duration": 0,
    "start_time": "2023-04-07T19:16:13.986Z"
   },
   {
    "duration": 0,
    "start_time": "2023-04-07T19:16:13.986Z"
   },
   {
    "duration": 0,
    "start_time": "2023-04-07T19:16:13.987Z"
   },
   {
    "duration": 0,
    "start_time": "2023-04-07T19:16:13.988Z"
   },
   {
    "duration": 0,
    "start_time": "2023-04-07T19:16:13.989Z"
   },
   {
    "duration": 0,
    "start_time": "2023-04-07T19:16:13.990Z"
   },
   {
    "duration": 1,
    "start_time": "2023-04-07T19:16:13.990Z"
   },
   {
    "duration": 0,
    "start_time": "2023-04-07T19:16:13.991Z"
   },
   {
    "duration": 0,
    "start_time": "2023-04-07T19:16:13.992Z"
   },
   {
    "duration": 827,
    "start_time": "2023-04-07T19:16:40.946Z"
   },
   {
    "duration": 9,
    "start_time": "2023-04-07T19:17:01.970Z"
   },
   {
    "duration": 4,
    "start_time": "2023-04-07T19:17:17.641Z"
   },
   {
    "duration": 5,
    "start_time": "2023-04-07T19:20:52.415Z"
   },
   {
    "duration": 7,
    "start_time": "2023-04-07T19:21:04.311Z"
   },
   {
    "duration": 6,
    "start_time": "2023-04-07T19:21:18.321Z"
   },
   {
    "duration": 1383,
    "start_time": "2023-04-07T19:23:19.461Z"
   },
   {
    "duration": 1788,
    "start_time": "2023-04-07T19:23:20.846Z"
   },
   {
    "duration": 15,
    "start_time": "2023-04-07T19:23:22.636Z"
   },
   {
    "duration": 31,
    "start_time": "2023-04-07T19:23:22.652Z"
   },
   {
    "duration": 23,
    "start_time": "2023-04-07T19:23:22.686Z"
   },
   {
    "duration": 46,
    "start_time": "2023-04-07T19:23:22.710Z"
   },
   {
    "duration": 28,
    "start_time": "2023-04-07T19:23:22.758Z"
   },
   {
    "duration": 6,
    "start_time": "2023-04-07T19:23:22.787Z"
   },
   {
    "duration": 7,
    "start_time": "2023-04-07T19:23:22.795Z"
   },
   {
    "duration": 136,
    "start_time": "2023-04-07T19:23:22.803Z"
   },
   {
    "duration": 0,
    "start_time": "2023-04-07T19:23:22.940Z"
   },
   {
    "duration": 0,
    "start_time": "2023-04-07T19:23:22.942Z"
   },
   {
    "duration": 0,
    "start_time": "2023-04-07T19:23:22.942Z"
   },
   {
    "duration": 0,
    "start_time": "2023-04-07T19:23:22.943Z"
   },
   {
    "duration": 0,
    "start_time": "2023-04-07T19:23:22.944Z"
   },
   {
    "duration": 0,
    "start_time": "2023-04-07T19:23:22.945Z"
   },
   {
    "duration": 0,
    "start_time": "2023-04-07T19:23:22.948Z"
   },
   {
    "duration": 0,
    "start_time": "2023-04-07T19:23:22.949Z"
   },
   {
    "duration": 0,
    "start_time": "2023-04-07T19:23:22.950Z"
   },
   {
    "duration": 0,
    "start_time": "2023-04-07T19:23:22.951Z"
   },
   {
    "duration": 0,
    "start_time": "2023-04-07T19:23:22.952Z"
   },
   {
    "duration": 0,
    "start_time": "2023-04-07T19:23:22.953Z"
   },
   {
    "duration": 0,
    "start_time": "2023-04-07T19:23:22.954Z"
   },
   {
    "duration": 0,
    "start_time": "2023-04-07T19:23:22.955Z"
   },
   {
    "duration": 5,
    "start_time": "2023-04-07T19:23:37.567Z"
   },
   {
    "duration": 17,
    "start_time": "2023-04-07T19:24:32.046Z"
   },
   {
    "duration": 5,
    "start_time": "2023-04-07T19:24:37.166Z"
   },
   {
    "duration": 1326,
    "start_time": "2023-04-07T19:24:43.547Z"
   },
   {
    "duration": 1757,
    "start_time": "2023-04-07T19:24:44.875Z"
   },
   {
    "duration": 15,
    "start_time": "2023-04-07T19:24:46.633Z"
   },
   {
    "duration": 28,
    "start_time": "2023-04-07T19:24:46.649Z"
   },
   {
    "duration": 9,
    "start_time": "2023-04-07T19:24:46.679Z"
   },
   {
    "duration": 4,
    "start_time": "2023-04-07T19:24:46.690Z"
   },
   {
    "duration": 17,
    "start_time": "2023-04-07T19:24:46.696Z"
   },
   {
    "duration": 6,
    "start_time": "2023-04-07T19:24:46.714Z"
   },
   {
    "duration": 6,
    "start_time": "2023-04-07T19:24:46.721Z"
   },
   {
    "duration": 7,
    "start_time": "2023-04-07T19:24:46.749Z"
   },
   {
    "duration": 5,
    "start_time": "2023-04-07T19:24:46.757Z"
   },
   {
    "duration": 16974,
    "start_time": "2023-04-07T19:24:46.763Z"
   },
   {
    "duration": 145,
    "start_time": "2023-04-07T19:25:03.748Z"
   },
   {
    "duration": 1131,
    "start_time": "2023-04-07T19:25:03.896Z"
   },
   {
    "duration": 5,
    "start_time": "2023-04-07T19:25:05.028Z"
   },
   {
    "duration": 1402,
    "start_time": "2023-04-07T19:25:07.099Z"
   },
   {
    "duration": 1790,
    "start_time": "2023-04-07T19:25:08.503Z"
   },
   {
    "duration": 15,
    "start_time": "2023-04-07T19:25:10.295Z"
   },
   {
    "duration": 28,
    "start_time": "2023-04-07T19:25:10.311Z"
   },
   {
    "duration": 15,
    "start_time": "2023-04-07T19:25:10.341Z"
   },
   {
    "duration": 4,
    "start_time": "2023-04-07T19:25:10.358Z"
   },
   {
    "duration": 17,
    "start_time": "2023-04-07T19:25:10.364Z"
   },
   {
    "duration": 6,
    "start_time": "2023-04-07T19:25:10.383Z"
   },
   {
    "duration": 4,
    "start_time": "2023-04-07T19:25:10.391Z"
   },
   {
    "duration": 156,
    "start_time": "2023-04-07T19:25:10.396Z"
   },
   {
    "duration": 0,
    "start_time": "2023-04-07T19:25:10.553Z"
   },
   {
    "duration": 0,
    "start_time": "2023-04-07T19:25:10.554Z"
   },
   {
    "duration": 0,
    "start_time": "2023-04-07T19:25:10.555Z"
   },
   {
    "duration": 0,
    "start_time": "2023-04-07T19:25:10.557Z"
   },
   {
    "duration": 0,
    "start_time": "2023-04-07T19:25:10.558Z"
   },
   {
    "duration": 0,
    "start_time": "2023-04-07T19:25:10.558Z"
   },
   {
    "duration": 0,
    "start_time": "2023-04-07T19:25:10.559Z"
   },
   {
    "duration": 0,
    "start_time": "2023-04-07T19:25:10.560Z"
   },
   {
    "duration": 0,
    "start_time": "2023-04-07T19:25:10.561Z"
   },
   {
    "duration": 0,
    "start_time": "2023-04-07T19:25:10.562Z"
   },
   {
    "duration": 0,
    "start_time": "2023-04-07T19:25:10.564Z"
   },
   {
    "duration": 0,
    "start_time": "2023-04-07T19:25:10.565Z"
   },
   {
    "duration": 0,
    "start_time": "2023-04-07T19:25:10.566Z"
   },
   {
    "duration": 0,
    "start_time": "2023-04-07T19:25:10.567Z"
   },
   {
    "duration": 1312,
    "start_time": "2023-04-07T19:25:27.582Z"
   },
   {
    "duration": 1818,
    "start_time": "2023-04-07T19:25:28.896Z"
   },
   {
    "duration": 15,
    "start_time": "2023-04-07T19:25:30.716Z"
   },
   {
    "duration": 52,
    "start_time": "2023-04-07T19:25:30.733Z"
   },
   {
    "duration": 25,
    "start_time": "2023-04-07T19:25:30.787Z"
   },
   {
    "duration": 17,
    "start_time": "2023-04-07T19:25:30.814Z"
   },
   {
    "duration": 34,
    "start_time": "2023-04-07T19:25:30.832Z"
   },
   {
    "duration": 29,
    "start_time": "2023-04-07T19:25:30.867Z"
   },
   {
    "duration": 32,
    "start_time": "2023-04-07T19:25:30.898Z"
   },
   {
    "duration": 159,
    "start_time": "2023-04-07T19:25:30.931Z"
   },
   {
    "duration": 0,
    "start_time": "2023-04-07T19:25:31.092Z"
   },
   {
    "duration": 0,
    "start_time": "2023-04-07T19:25:31.094Z"
   },
   {
    "duration": 0,
    "start_time": "2023-04-07T19:25:31.095Z"
   },
   {
    "duration": 0,
    "start_time": "2023-04-07T19:25:31.097Z"
   },
   {
    "duration": 0,
    "start_time": "2023-04-07T19:25:31.098Z"
   },
   {
    "duration": 0,
    "start_time": "2023-04-07T19:25:31.100Z"
   },
   {
    "duration": 1,
    "start_time": "2023-04-07T19:25:31.101Z"
   },
   {
    "duration": 0,
    "start_time": "2023-04-07T19:25:31.103Z"
   },
   {
    "duration": 0,
    "start_time": "2023-04-07T19:25:31.104Z"
   },
   {
    "duration": 0,
    "start_time": "2023-04-07T19:25:31.106Z"
   },
   {
    "duration": 0,
    "start_time": "2023-04-07T19:25:31.107Z"
   },
   {
    "duration": 0,
    "start_time": "2023-04-07T19:25:31.109Z"
   },
   {
    "duration": 0,
    "start_time": "2023-04-07T19:25:31.110Z"
   },
   {
    "duration": 0,
    "start_time": "2023-04-07T19:25:31.111Z"
   },
   {
    "duration": 17,
    "start_time": "2023-04-07T19:25:47.977Z"
   },
   {
    "duration": 5,
    "start_time": "2023-04-07T19:25:54.111Z"
   },
   {
    "duration": 1364,
    "start_time": "2023-04-07T19:26:13.132Z"
   },
   {
    "duration": 1741,
    "start_time": "2023-04-07T19:26:14.499Z"
   },
   {
    "duration": 15,
    "start_time": "2023-04-07T19:26:16.241Z"
   },
   {
    "duration": 29,
    "start_time": "2023-04-07T19:26:16.258Z"
   },
   {
    "duration": 9,
    "start_time": "2023-04-07T19:26:16.289Z"
   },
   {
    "duration": 6,
    "start_time": "2023-04-07T19:26:16.299Z"
   },
   {
    "duration": 14,
    "start_time": "2023-04-07T19:26:16.306Z"
   },
   {
    "duration": 28,
    "start_time": "2023-04-07T19:26:16.322Z"
   },
   {
    "duration": 5,
    "start_time": "2023-04-07T19:26:16.352Z"
   },
   {
    "duration": 157,
    "start_time": "2023-04-07T19:26:16.358Z"
   },
   {
    "duration": 0,
    "start_time": "2023-04-07T19:26:16.517Z"
   },
   {
    "duration": 0,
    "start_time": "2023-04-07T19:26:16.518Z"
   },
   {
    "duration": 0,
    "start_time": "2023-04-07T19:26:16.519Z"
   },
   {
    "duration": 0,
    "start_time": "2023-04-07T19:26:16.520Z"
   },
   {
    "duration": 0,
    "start_time": "2023-04-07T19:26:16.521Z"
   },
   {
    "duration": 0,
    "start_time": "2023-04-07T19:26:16.522Z"
   },
   {
    "duration": 0,
    "start_time": "2023-04-07T19:26:16.523Z"
   },
   {
    "duration": 0,
    "start_time": "2023-04-07T19:26:16.524Z"
   },
   {
    "duration": 0,
    "start_time": "2023-04-07T19:26:16.525Z"
   },
   {
    "duration": 0,
    "start_time": "2023-04-07T19:26:16.526Z"
   },
   {
    "duration": 0,
    "start_time": "2023-04-07T19:26:16.527Z"
   },
   {
    "duration": 0,
    "start_time": "2023-04-07T19:26:16.528Z"
   },
   {
    "duration": 0,
    "start_time": "2023-04-07T19:26:16.529Z"
   },
   {
    "duration": 0,
    "start_time": "2023-04-07T19:26:16.530Z"
   },
   {
    "duration": 1347,
    "start_time": "2023-04-07T19:26:35.648Z"
   },
   {
    "duration": 1773,
    "start_time": "2023-04-07T19:26:36.996Z"
   },
   {
    "duration": 16,
    "start_time": "2023-04-07T19:26:38.771Z"
   },
   {
    "duration": 28,
    "start_time": "2023-04-07T19:26:38.788Z"
   },
   {
    "duration": 12,
    "start_time": "2023-04-07T19:26:38.818Z"
   },
   {
    "duration": 20,
    "start_time": "2023-04-07T19:26:38.831Z"
   },
   {
    "duration": 16,
    "start_time": "2023-04-07T19:26:38.853Z"
   },
   {
    "duration": 10,
    "start_time": "2023-04-07T19:26:38.870Z"
   },
   {
    "duration": 4,
    "start_time": "2023-04-07T19:26:38.881Z"
   },
   {
    "duration": 170,
    "start_time": "2023-04-07T19:26:38.887Z"
   },
   {
    "duration": 0,
    "start_time": "2023-04-07T19:26:39.059Z"
   },
   {
    "duration": 0,
    "start_time": "2023-04-07T19:26:39.062Z"
   },
   {
    "duration": 0,
    "start_time": "2023-04-07T19:26:39.062Z"
   },
   {
    "duration": 0,
    "start_time": "2023-04-07T19:26:39.063Z"
   },
   {
    "duration": 0,
    "start_time": "2023-04-07T19:26:39.065Z"
   },
   {
    "duration": 0,
    "start_time": "2023-04-07T19:26:39.066Z"
   },
   {
    "duration": 0,
    "start_time": "2023-04-07T19:26:39.067Z"
   },
   {
    "duration": 0,
    "start_time": "2023-04-07T19:26:39.068Z"
   },
   {
    "duration": 0,
    "start_time": "2023-04-07T19:26:39.070Z"
   },
   {
    "duration": 0,
    "start_time": "2023-04-07T19:26:39.071Z"
   },
   {
    "duration": 0,
    "start_time": "2023-04-07T19:26:39.072Z"
   },
   {
    "duration": 0,
    "start_time": "2023-04-07T19:26:39.073Z"
   },
   {
    "duration": 0,
    "start_time": "2023-04-07T19:26:39.075Z"
   },
   {
    "duration": 0,
    "start_time": "2023-04-07T19:26:39.076Z"
   },
   {
    "duration": 1401,
    "start_time": "2023-04-07T19:26:49.312Z"
   },
   {
    "duration": 1768,
    "start_time": "2023-04-07T19:26:50.715Z"
   },
   {
    "duration": 15,
    "start_time": "2023-04-07T19:26:52.485Z"
   },
   {
    "duration": 29,
    "start_time": "2023-04-07T19:26:52.501Z"
   },
   {
    "duration": 10,
    "start_time": "2023-04-07T19:26:52.533Z"
   },
   {
    "duration": 7,
    "start_time": "2023-04-07T19:26:52.545Z"
   },
   {
    "duration": 16,
    "start_time": "2023-04-07T19:26:52.554Z"
   },
   {
    "duration": 26,
    "start_time": "2023-04-07T19:26:52.571Z"
   },
   {
    "duration": 13,
    "start_time": "2023-04-07T19:26:52.598Z"
   },
   {
    "duration": 51,
    "start_time": "2023-04-07T19:26:52.613Z"
   },
   {
    "duration": 4,
    "start_time": "2023-04-07T19:26:52.666Z"
   },
   {
    "duration": 14649,
    "start_time": "2023-04-07T19:26:52.672Z"
   },
   {
    "duration": 0,
    "start_time": "2023-04-07T19:27:07.323Z"
   },
   {
    "duration": 0,
    "start_time": "2023-04-07T19:27:07.324Z"
   },
   {
    "duration": 0,
    "start_time": "2023-04-07T19:27:07.325Z"
   },
   {
    "duration": 0,
    "start_time": "2023-04-07T19:27:07.326Z"
   },
   {
    "duration": 0,
    "start_time": "2023-04-07T19:27:07.327Z"
   },
   {
    "duration": 0,
    "start_time": "2023-04-07T19:27:07.328Z"
   },
   {
    "duration": 0,
    "start_time": "2023-04-07T19:27:07.329Z"
   },
   {
    "duration": 0,
    "start_time": "2023-04-07T19:27:07.330Z"
   },
   {
    "duration": 0,
    "start_time": "2023-04-07T19:27:07.349Z"
   },
   {
    "duration": 0,
    "start_time": "2023-04-07T19:27:07.350Z"
   },
   {
    "duration": 0,
    "start_time": "2023-04-07T19:27:07.351Z"
   },
   {
    "duration": 0,
    "start_time": "2023-04-07T19:27:07.352Z"
   },
   {
    "duration": 1292,
    "start_time": "2023-04-07T19:27:20.185Z"
   },
   {
    "duration": 1797,
    "start_time": "2023-04-07T19:27:21.479Z"
   },
   {
    "duration": 15,
    "start_time": "2023-04-07T19:27:23.277Z"
   },
   {
    "duration": 38,
    "start_time": "2023-04-07T19:27:23.294Z"
   },
   {
    "duration": 11,
    "start_time": "2023-04-07T19:27:23.334Z"
   },
   {
    "duration": 4,
    "start_time": "2023-04-07T19:27:23.346Z"
   },
   {
    "duration": 13,
    "start_time": "2023-04-07T19:27:23.351Z"
   },
   {
    "duration": 6,
    "start_time": "2023-04-07T19:27:23.365Z"
   },
   {
    "duration": 5,
    "start_time": "2023-04-07T19:27:23.373Z"
   },
   {
    "duration": 20,
    "start_time": "2023-04-07T19:27:23.379Z"
   },
   {
    "duration": 4,
    "start_time": "2023-04-07T19:27:23.401Z"
   },
   {
    "duration": 17642,
    "start_time": "2023-04-07T19:27:23.406Z"
   },
   {
    "duration": 0,
    "start_time": "2023-04-07T19:27:41.050Z"
   },
   {
    "duration": 0,
    "start_time": "2023-04-07T19:27:41.052Z"
   },
   {
    "duration": 0,
    "start_time": "2023-04-07T19:27:41.053Z"
   },
   {
    "duration": 0,
    "start_time": "2023-04-07T19:27:41.055Z"
   },
   {
    "duration": 0,
    "start_time": "2023-04-07T19:27:41.056Z"
   },
   {
    "duration": 0,
    "start_time": "2023-04-07T19:27:41.057Z"
   },
   {
    "duration": 0,
    "start_time": "2023-04-07T19:27:41.058Z"
   },
   {
    "duration": 0,
    "start_time": "2023-04-07T19:27:41.060Z"
   },
   {
    "duration": 1,
    "start_time": "2023-04-07T19:27:41.061Z"
   },
   {
    "duration": 0,
    "start_time": "2023-04-07T19:27:41.063Z"
   },
   {
    "duration": 0,
    "start_time": "2023-04-07T19:27:41.066Z"
   },
   {
    "duration": 0,
    "start_time": "2023-04-07T19:27:41.067Z"
   },
   {
    "duration": 1387,
    "start_time": "2023-04-07T19:27:46.070Z"
   },
   {
    "duration": 1751,
    "start_time": "2023-04-07T19:27:47.460Z"
   },
   {
    "duration": 15,
    "start_time": "2023-04-07T19:27:49.213Z"
   },
   {
    "duration": 36,
    "start_time": "2023-04-07T19:27:49.230Z"
   },
   {
    "duration": 9,
    "start_time": "2023-04-07T19:27:49.268Z"
   },
   {
    "duration": 6,
    "start_time": "2023-04-07T19:27:49.278Z"
   },
   {
    "duration": 11,
    "start_time": "2023-04-07T19:27:49.285Z"
   },
   {
    "duration": 5,
    "start_time": "2023-04-07T19:27:49.297Z"
   },
   {
    "duration": 15,
    "start_time": "2023-04-07T19:27:49.304Z"
   },
   {
    "duration": 32,
    "start_time": "2023-04-07T19:27:49.320Z"
   },
   {
    "duration": 5,
    "start_time": "2023-04-07T19:27:49.354Z"
   },
   {
    "duration": 6724,
    "start_time": "2023-04-07T19:27:49.360Z"
   },
   {
    "duration": 141,
    "start_time": "2023-04-07T19:27:56.086Z"
   },
   {
    "duration": 304,
    "start_time": "2023-04-07T19:27:56.230Z"
   },
   {
    "duration": 5,
    "start_time": "2023-04-07T19:27:56.536Z"
   },
   {
    "duration": 5809,
    "start_time": "2023-04-07T19:27:56.542Z"
   },
   {
    "duration": 3157,
    "start_time": "2023-04-07T19:28:02.357Z"
   },
   {
    "duration": 70580,
    "start_time": "2023-04-07T19:28:05.515Z"
   },
   {
    "duration": 1702822,
    "start_time": "2023-04-07T19:29:16.096Z"
   },
   {
    "duration": 7,
    "start_time": "2023-04-07T19:57:38.920Z"
   },
   {
    "duration": 2727,
    "start_time": "2023-04-07T19:57:38.928Z"
   },
   {
    "duration": 454,
    "start_time": "2023-04-07T19:57:41.657Z"
   },
   {
    "duration": 159,
    "start_time": "2023-04-07T19:57:42.113Z"
   },
   {
    "duration": 298272,
    "start_time": "2023-04-07T19:57:42.273Z"
   },
   {
    "duration": 1488,
    "start_time": "2023-04-07T20:27:46.514Z"
   },
   {
    "duration": 2041,
    "start_time": "2023-04-07T20:27:48.003Z"
   },
   {
    "duration": 20,
    "start_time": "2023-04-07T20:27:50.046Z"
   },
   {
    "duration": 47,
    "start_time": "2023-04-07T20:27:50.068Z"
   },
   {
    "duration": 14,
    "start_time": "2023-04-07T20:27:50.117Z"
   },
   {
    "duration": 11,
    "start_time": "2023-04-07T20:27:50.132Z"
   },
   {
    "duration": 30,
    "start_time": "2023-04-07T20:27:50.145Z"
   },
   {
    "duration": 7,
    "start_time": "2023-04-07T20:27:50.177Z"
   },
   {
    "duration": 5,
    "start_time": "2023-04-07T20:27:50.185Z"
   },
   {
    "duration": 11,
    "start_time": "2023-04-07T20:27:50.192Z"
   },
   {
    "duration": 4,
    "start_time": "2023-04-07T20:27:50.205Z"
   },
   {
    "duration": 6862,
    "start_time": "2023-04-07T20:27:50.210Z"
   },
   {
    "duration": 154,
    "start_time": "2023-04-07T20:27:57.074Z"
   },
   {
    "duration": 362,
    "start_time": "2023-04-07T20:27:57.231Z"
   },
   {
    "duration": 5,
    "start_time": "2023-04-07T20:27:57.594Z"
   },
   {
    "duration": 8063,
    "start_time": "2023-04-07T20:27:57.600Z"
   },
   {
    "duration": 3327,
    "start_time": "2023-04-07T20:28:05.671Z"
   },
   {
    "duration": 77071,
    "start_time": "2023-04-07T20:28:08.999Z"
   },
   {
    "duration": 1764663,
    "start_time": "2023-04-07T20:29:26.072Z"
   },
   {
    "duration": 5,
    "start_time": "2023-04-07T20:58:50.737Z"
   },
   {
    "duration": 3827,
    "start_time": "2023-04-07T20:58:50.744Z"
   },
   {
    "duration": 422,
    "start_time": "2023-04-07T20:58:54.576Z"
   },
   {
    "duration": 158,
    "start_time": "2023-04-07T20:58:54.999Z"
   },
   {
    "duration": 214723,
    "start_time": "2023-04-07T20:58:55.158Z"
   },
   {
    "duration": 2710,
    "start_time": "2023-04-07T21:10:10.351Z"
   },
   {
    "duration": 1367,
    "start_time": "2023-04-07T21:10:49.180Z"
   },
   {
    "duration": 1782,
    "start_time": "2023-04-07T21:10:50.549Z"
   },
   {
    "duration": 16,
    "start_time": "2023-04-07T21:10:52.333Z"
   },
   {
    "duration": 28,
    "start_time": "2023-04-07T21:10:52.351Z"
   },
   {
    "duration": 8,
    "start_time": "2023-04-07T21:10:52.382Z"
   },
   {
    "duration": 14,
    "start_time": "2023-04-07T21:10:52.392Z"
   },
   {
    "duration": 10,
    "start_time": "2023-04-07T21:10:52.407Z"
   },
   {
    "duration": 19,
    "start_time": "2023-04-07T21:10:52.419Z"
   },
   {
    "duration": 40,
    "start_time": "2023-04-07T21:10:52.440Z"
   },
   {
    "duration": 42,
    "start_time": "2023-04-07T21:10:52.481Z"
   },
   {
    "duration": 40,
    "start_time": "2023-04-07T21:10:52.524Z"
   },
   {
    "duration": 6163,
    "start_time": "2023-04-07T21:10:52.565Z"
   },
   {
    "duration": 300,
    "start_time": "2023-04-07T21:10:58.730Z"
   },
   {
    "duration": 306,
    "start_time": "2023-04-07T21:10:59.033Z"
   },
   {
    "duration": 5,
    "start_time": "2023-04-07T21:10:59.340Z"
   },
   {
    "duration": 19,
    "start_time": "2023-04-07T21:10:59.349Z"
   },
   {
    "duration": 154,
    "start_time": "2023-04-07T21:10:59.369Z"
   },
   {
    "duration": 0,
    "start_time": "2023-04-07T21:10:59.525Z"
   },
   {
    "duration": 0,
    "start_time": "2023-04-07T21:10:59.526Z"
   },
   {
    "duration": 0,
    "start_time": "2023-04-07T21:10:59.527Z"
   },
   {
    "duration": 0,
    "start_time": "2023-04-07T21:10:59.529Z"
   },
   {
    "duration": 0,
    "start_time": "2023-04-07T21:10:59.530Z"
   },
   {
    "duration": 0,
    "start_time": "2023-04-07T21:10:59.548Z"
   },
   {
    "duration": 0,
    "start_time": "2023-04-07T21:10:59.550Z"
   },
   {
    "duration": 0,
    "start_time": "2023-04-07T21:10:59.551Z"
   },
   {
    "duration": 1322,
    "start_time": "2023-04-07T21:15:22.923Z"
   },
   {
    "duration": 1712,
    "start_time": "2023-04-07T21:15:24.247Z"
   },
   {
    "duration": 14,
    "start_time": "2023-04-07T21:15:25.960Z"
   },
   {
    "duration": 28,
    "start_time": "2023-04-07T21:15:25.976Z"
   },
   {
    "duration": 9,
    "start_time": "2023-04-07T21:15:26.006Z"
   },
   {
    "duration": 5,
    "start_time": "2023-04-07T21:15:26.016Z"
   },
   {
    "duration": 14,
    "start_time": "2023-04-07T21:15:26.022Z"
   },
   {
    "duration": 10,
    "start_time": "2023-04-07T21:15:26.038Z"
   },
   {
    "duration": 8,
    "start_time": "2023-04-07T21:15:26.050Z"
   },
   {
    "duration": 13,
    "start_time": "2023-04-07T21:15:26.060Z"
   },
   {
    "duration": 8,
    "start_time": "2023-04-07T21:15:26.075Z"
   },
   {
    "duration": 5485,
    "start_time": "2023-04-07T21:15:26.084Z"
   },
   {
    "duration": 206,
    "start_time": "2023-04-07T21:15:31.571Z"
   },
   {
    "duration": 275,
    "start_time": "2023-04-07T21:15:31.779Z"
   },
   {
    "duration": 4,
    "start_time": "2023-04-07T21:15:32.056Z"
   },
   {
    "duration": 25,
    "start_time": "2023-04-07T21:15:32.062Z"
   },
   {
    "duration": 143,
    "start_time": "2023-04-07T21:15:32.088Z"
   },
   {
    "duration": 0,
    "start_time": "2023-04-07T21:15:32.233Z"
   },
   {
    "duration": 0,
    "start_time": "2023-04-07T21:15:32.235Z"
   },
   {
    "duration": 0,
    "start_time": "2023-04-07T21:15:32.236Z"
   },
   {
    "duration": 0,
    "start_time": "2023-04-07T21:15:32.237Z"
   },
   {
    "duration": 0,
    "start_time": "2023-04-07T21:15:32.248Z"
   },
   {
    "duration": 0,
    "start_time": "2023-04-07T21:15:32.250Z"
   },
   {
    "duration": 0,
    "start_time": "2023-04-07T21:15:32.251Z"
   },
   {
    "duration": 0,
    "start_time": "2023-04-07T21:15:32.252Z"
   },
   {
    "duration": 10,
    "start_time": "2023-04-07T21:16:19.693Z"
   },
   {
    "duration": 1281,
    "start_time": "2023-04-07T21:17:15.994Z"
   },
   {
    "duration": 1735,
    "start_time": "2023-04-07T21:17:17.277Z"
   },
   {
    "duration": 15,
    "start_time": "2023-04-07T21:17:19.015Z"
   },
   {
    "duration": 31,
    "start_time": "2023-04-07T21:17:19.032Z"
   },
   {
    "duration": 9,
    "start_time": "2023-04-07T21:17:19.064Z"
   },
   {
    "duration": 9,
    "start_time": "2023-04-07T21:17:19.074Z"
   },
   {
    "duration": 11,
    "start_time": "2023-04-07T21:17:19.084Z"
   },
   {
    "duration": 4,
    "start_time": "2023-04-07T21:17:19.097Z"
   },
   {
    "duration": 4,
    "start_time": "2023-04-07T21:17:19.103Z"
   },
   {
    "duration": 37,
    "start_time": "2023-04-07T21:17:19.108Z"
   },
   {
    "duration": 10,
    "start_time": "2023-04-07T21:17:19.147Z"
   },
   {
    "duration": 5570,
    "start_time": "2023-04-07T21:17:19.159Z"
   },
   {
    "duration": 226,
    "start_time": "2023-04-07T21:17:24.732Z"
   },
   {
    "duration": 289,
    "start_time": "2023-04-07T21:17:24.959Z"
   },
   {
    "duration": 4,
    "start_time": "2023-04-07T21:17:25.250Z"
   },
   {
    "duration": 7,
    "start_time": "2023-04-07T21:17:25.255Z"
   },
   {
    "duration": 133,
    "start_time": "2023-04-07T21:17:25.263Z"
   },
   {
    "duration": 0,
    "start_time": "2023-04-07T21:17:25.398Z"
   },
   {
    "duration": 0,
    "start_time": "2023-04-07T21:17:25.399Z"
   },
   {
    "duration": 0,
    "start_time": "2023-04-07T21:17:25.400Z"
   },
   {
    "duration": 0,
    "start_time": "2023-04-07T21:17:25.400Z"
   },
   {
    "duration": 0,
    "start_time": "2023-04-07T21:17:25.401Z"
   },
   {
    "duration": 0,
    "start_time": "2023-04-07T21:17:25.402Z"
   },
   {
    "duration": 0,
    "start_time": "2023-04-07T21:17:25.403Z"
   },
   {
    "duration": 0,
    "start_time": "2023-04-07T21:17:25.404Z"
   },
   {
    "duration": 10,
    "start_time": "2023-04-07T21:17:53.484Z"
   },
   {
    "duration": 11,
    "start_time": "2023-04-07T21:18:10.926Z"
   },
   {
    "duration": 10,
    "start_time": "2023-04-07T21:18:16.047Z"
   },
   {
    "duration": 10,
    "start_time": "2023-04-07T21:19:02.091Z"
   },
   {
    "duration": 10316,
    "start_time": "2023-04-07T21:19:26.058Z"
   },
   {
    "duration": 1306,
    "start_time": "2023-04-07T21:20:12.047Z"
   },
   {
    "duration": 1795,
    "start_time": "2023-04-07T21:20:13.355Z"
   },
   {
    "duration": 15,
    "start_time": "2023-04-07T21:20:15.152Z"
   },
   {
    "duration": 28,
    "start_time": "2023-04-07T21:20:15.169Z"
   },
   {
    "duration": 8,
    "start_time": "2023-04-07T21:20:15.199Z"
   },
   {
    "duration": 5,
    "start_time": "2023-04-07T21:20:15.208Z"
   },
   {
    "duration": 16,
    "start_time": "2023-04-07T21:20:15.214Z"
   },
   {
    "duration": 18,
    "start_time": "2023-04-07T21:20:15.232Z"
   },
   {
    "duration": 4,
    "start_time": "2023-04-07T21:20:15.251Z"
   },
   {
    "duration": 9,
    "start_time": "2023-04-07T21:20:15.257Z"
   },
   {
    "duration": 3,
    "start_time": "2023-04-07T21:20:15.267Z"
   },
   {
    "duration": 5790,
    "start_time": "2023-04-07T21:20:15.272Z"
   },
   {
    "duration": 209,
    "start_time": "2023-04-07T21:20:21.064Z"
   },
   {
    "duration": 307,
    "start_time": "2023-04-07T21:20:21.276Z"
   },
   {
    "duration": 4,
    "start_time": "2023-04-07T21:20:21.585Z"
   },
   {
    "duration": 9,
    "start_time": "2023-04-07T21:20:21.590Z"
   },
   {
    "duration": 32751,
    "start_time": "2023-04-07T21:20:21.600Z"
   },
   {
    "duration": 67409,
    "start_time": "2023-04-07T21:20:54.353Z"
   },
   {
    "duration": 1685162,
    "start_time": "2023-04-07T21:22:01.763Z"
   },
   {
    "duration": 1545358,
    "start_time": "2023-04-07T21:50:06.926Z"
   },
   {
    "duration": 7,
    "start_time": "2023-04-07T22:15:52.285Z"
   },
   {
    "duration": 1756,
    "start_time": "2023-04-07T22:15:52.294Z"
   },
   {
    "duration": 384,
    "start_time": "2023-04-07T22:15:54.052Z"
   },
   {
    "duration": 144,
    "start_time": "2023-04-07T22:15:54.437Z"
   },
   {
    "duration": 261888,
    "start_time": "2023-04-07T22:15:54.583Z"
   },
   {
    "duration": 1310,
    "start_time": "2023-04-07T22:23:41.371Z"
   },
   {
    "duration": 1751,
    "start_time": "2023-04-07T22:23:42.682Z"
   },
   {
    "duration": 20,
    "start_time": "2023-04-07T22:23:44.434Z"
   },
   {
    "duration": 33,
    "start_time": "2023-04-07T22:23:44.455Z"
   },
   {
    "duration": 10,
    "start_time": "2023-04-07T22:23:44.490Z"
   },
   {
    "duration": 15,
    "start_time": "2023-04-07T22:23:44.502Z"
   },
   {
    "duration": 22,
    "start_time": "2023-04-07T22:23:44.519Z"
   },
   {
    "duration": 7,
    "start_time": "2023-04-07T22:23:44.543Z"
   },
   {
    "duration": 10,
    "start_time": "2023-04-07T22:23:44.552Z"
   },
   {
    "duration": 18,
    "start_time": "2023-04-07T22:23:44.564Z"
   },
   {
    "duration": 4,
    "start_time": "2023-04-07T22:23:44.584Z"
   },
   {
    "duration": 6016,
    "start_time": "2023-04-07T22:23:44.589Z"
   },
   {
    "duration": 207,
    "start_time": "2023-04-07T22:23:50.608Z"
   },
   {
    "duration": 301,
    "start_time": "2023-04-07T22:23:50.819Z"
   },
   {
    "duration": 4,
    "start_time": "2023-04-07T22:23:51.122Z"
   },
   {
    "duration": 9,
    "start_time": "2023-04-07T22:23:51.128Z"
   },
   {
    "duration": 38116,
    "start_time": "2023-04-07T22:23:51.139Z"
   },
   {
    "duration": 70337,
    "start_time": "2023-04-07T22:24:29.256Z"
   },
   {
    "duration": 1708994,
    "start_time": "2023-04-07T22:25:39.595Z"
   },
   {
    "duration": 1627397,
    "start_time": "2023-04-07T22:54:08.590Z"
   },
   {
    "duration": 6,
    "start_time": "2023-04-07T23:21:15.988Z"
   },
   {
    "duration": 7672,
    "start_time": "2023-04-07T23:21:15.995Z"
   },
   {
    "duration": 471,
    "start_time": "2023-04-07T23:21:23.675Z"
   },
   {
    "duration": 123,
    "start_time": "2023-04-07T23:21:24.147Z"
   },
   {
    "duration": 155953,
    "start_time": "2023-04-07T23:21:24.271Z"
   },
   {
    "duration": 1839,
    "start_time": "2023-04-08T08:03:36.068Z"
   },
   {
    "duration": 4398,
    "start_time": "2023-04-08T08:03:37.910Z"
   },
   {
    "duration": 16,
    "start_time": "2023-04-08T08:03:42.310Z"
   },
   {
    "duration": 35,
    "start_time": "2023-04-08T08:03:42.328Z"
   },
   {
    "duration": 12,
    "start_time": "2023-04-08T08:03:42.365Z"
   },
   {
    "duration": 17,
    "start_time": "2023-04-08T08:03:42.379Z"
   },
   {
    "duration": 25,
    "start_time": "2023-04-08T08:03:42.398Z"
   },
   {
    "duration": 7,
    "start_time": "2023-04-08T08:03:42.425Z"
   },
   {
    "duration": 10,
    "start_time": "2023-04-08T08:03:42.433Z"
   },
   {
    "duration": 13,
    "start_time": "2023-04-08T08:03:42.444Z"
   },
   {
    "duration": 10,
    "start_time": "2023-04-08T08:03:42.458Z"
   },
   {
    "duration": 12042,
    "start_time": "2023-04-08T08:03:42.470Z"
   },
   {
    "duration": 249,
    "start_time": "2023-04-08T08:03:54.515Z"
   },
   {
    "duration": 689,
    "start_time": "2023-04-08T08:03:54.768Z"
   },
   {
    "duration": 5,
    "start_time": "2023-04-08T08:03:55.458Z"
   },
   {
    "duration": 4,
    "start_time": "2023-04-08T08:03:55.464Z"
   },
   {
    "duration": 104659,
    "start_time": "2023-04-08T08:03:55.469Z"
   },
   {
    "duration": 170168,
    "start_time": "2023-04-08T08:05:40.130Z"
   },
   {
    "duration": 3306992,
    "start_time": "2023-04-08T08:08:30.300Z"
   },
   {
    "duration": 3264210,
    "start_time": "2023-04-08T09:03:37.294Z"
   },
   {
    "duration": 7,
    "start_time": "2023-04-08T09:58:01.506Z"
   },
   {
    "duration": 6911,
    "start_time": "2023-04-08T09:58:01.514Z"
   },
   {
    "duration": 634,
    "start_time": "2023-04-08T09:58:08.428Z"
   },
   {
    "duration": 304,
    "start_time": "2023-04-08T09:58:09.064Z"
   },
   {
    "duration": 565188,
    "start_time": "2023-04-08T09:58:09.370Z"
   },
   {
    "duration": 1441,
    "start_time": "2023-04-08T10:11:58.589Z"
   },
   {
    "duration": 1813,
    "start_time": "2023-04-08T10:12:00.032Z"
   },
   {
    "duration": 17,
    "start_time": "2023-04-08T10:12:01.847Z"
   },
   {
    "duration": 54,
    "start_time": "2023-04-08T10:12:01.866Z"
   },
   {
    "duration": 34,
    "start_time": "2023-04-08T10:12:01.922Z"
   },
   {
    "duration": 41,
    "start_time": "2023-04-08T10:12:01.958Z"
   },
   {
    "duration": 186,
    "start_time": "2023-04-08T10:12:02.001Z"
   },
   {
    "duration": 0,
    "start_time": "2023-04-08T10:12:02.189Z"
   },
   {
    "duration": 0,
    "start_time": "2023-04-08T10:12:02.191Z"
   },
   {
    "duration": 0,
    "start_time": "2023-04-08T10:12:02.192Z"
   },
   {
    "duration": 0,
    "start_time": "2023-04-08T10:12:02.194Z"
   },
   {
    "duration": 0,
    "start_time": "2023-04-08T10:12:02.196Z"
   },
   {
    "duration": 0,
    "start_time": "2023-04-08T10:12:02.197Z"
   },
   {
    "duration": 0,
    "start_time": "2023-04-08T10:12:02.198Z"
   },
   {
    "duration": 0,
    "start_time": "2023-04-08T10:12:02.200Z"
   },
   {
    "duration": 0,
    "start_time": "2023-04-08T10:12:02.201Z"
   },
   {
    "duration": 0,
    "start_time": "2023-04-08T10:12:02.203Z"
   },
   {
    "duration": 0,
    "start_time": "2023-04-08T10:12:02.204Z"
   },
   {
    "duration": 0,
    "start_time": "2023-04-08T10:12:02.206Z"
   },
   {
    "duration": 0,
    "start_time": "2023-04-08T10:12:02.223Z"
   },
   {
    "duration": 0,
    "start_time": "2023-04-08T10:12:02.226Z"
   },
   {
    "duration": 0,
    "start_time": "2023-04-08T10:12:02.227Z"
   },
   {
    "duration": 0,
    "start_time": "2023-04-08T10:12:02.229Z"
   },
   {
    "duration": 0,
    "start_time": "2023-04-08T10:12:02.231Z"
   },
   {
    "duration": 0,
    "start_time": "2023-04-08T10:12:02.232Z"
   },
   {
    "duration": 0,
    "start_time": "2023-04-08T10:12:02.233Z"
   },
   {
    "duration": 0,
    "start_time": "2023-04-08T10:12:02.235Z"
   },
   {
    "duration": 1454,
    "start_time": "2023-04-08T10:12:30.113Z"
   },
   {
    "duration": 1732,
    "start_time": "2023-04-08T10:12:31.569Z"
   },
   {
    "duration": 16,
    "start_time": "2023-04-08T10:12:33.303Z"
   },
   {
    "duration": 35,
    "start_time": "2023-04-08T10:12:33.320Z"
   },
   {
    "duration": 10,
    "start_time": "2023-04-08T10:12:33.357Z"
   },
   {
    "duration": 6,
    "start_time": "2023-04-08T10:12:33.369Z"
   },
   {
    "duration": 5,
    "start_time": "2023-04-08T10:12:33.377Z"
   },
   {
    "duration": 56,
    "start_time": "2023-04-08T10:12:33.384Z"
   },
   {
    "duration": 5,
    "start_time": "2023-04-08T10:12:33.442Z"
   },
   {
    "duration": 5,
    "start_time": "2023-04-08T10:12:33.450Z"
   },
   {
    "duration": 4,
    "start_time": "2023-04-08T10:12:33.457Z"
   },
   {
    "duration": 64,
    "start_time": "2023-04-08T10:12:33.463Z"
   },
   {
    "duration": 5,
    "start_time": "2023-04-08T10:12:33.529Z"
   },
   {
    "duration": 17428,
    "start_time": "2023-04-08T10:12:33.538Z"
   },
   {
    "duration": 0,
    "start_time": "2023-04-08T10:12:50.968Z"
   },
   {
    "duration": 0,
    "start_time": "2023-04-08T10:12:50.969Z"
   },
   {
    "duration": 0,
    "start_time": "2023-04-08T10:12:50.970Z"
   },
   {
    "duration": 0,
    "start_time": "2023-04-08T10:12:50.971Z"
   },
   {
    "duration": 0,
    "start_time": "2023-04-08T10:12:50.973Z"
   },
   {
    "duration": 0,
    "start_time": "2023-04-08T10:12:50.974Z"
   },
   {
    "duration": 0,
    "start_time": "2023-04-08T10:12:50.975Z"
   },
   {
    "duration": 0,
    "start_time": "2023-04-08T10:12:50.976Z"
   },
   {
    "duration": 0,
    "start_time": "2023-04-08T10:12:50.977Z"
   },
   {
    "duration": 0,
    "start_time": "2023-04-08T10:12:50.979Z"
   },
   {
    "duration": 0,
    "start_time": "2023-04-08T10:12:50.979Z"
   },
   {
    "duration": 0,
    "start_time": "2023-04-08T10:12:50.981Z"
   },
   {
    "duration": 0,
    "start_time": "2023-04-08T10:12:50.982Z"
   },
   {
    "duration": 1406,
    "start_time": "2023-04-08T10:13:15.679Z"
   },
   {
    "duration": 1746,
    "start_time": "2023-04-08T10:13:17.087Z"
   },
   {
    "duration": 17,
    "start_time": "2023-04-08T10:13:18.835Z"
   },
   {
    "duration": 34,
    "start_time": "2023-04-08T10:13:18.855Z"
   },
   {
    "duration": 37,
    "start_time": "2023-04-08T10:13:18.891Z"
   },
   {
    "duration": 22,
    "start_time": "2023-04-08T10:13:18.930Z"
   },
   {
    "duration": 16,
    "start_time": "2023-04-08T10:13:18.954Z"
   },
   {
    "duration": 42,
    "start_time": "2023-04-08T10:13:18.972Z"
   },
   {
    "duration": 5,
    "start_time": "2023-04-08T10:13:19.016Z"
   },
   {
    "duration": 31,
    "start_time": "2023-04-08T10:13:19.024Z"
   },
   {
    "duration": 22,
    "start_time": "2023-04-08T10:13:19.057Z"
   },
   {
    "duration": 66,
    "start_time": "2023-04-08T10:13:19.081Z"
   },
   {
    "duration": 4,
    "start_time": "2023-04-08T10:13:19.149Z"
   },
   {
    "duration": 45801,
    "start_time": "2023-04-08T10:13:19.155Z"
   },
   {
    "duration": 175,
    "start_time": "2023-04-08T10:14:04.959Z"
   },
   {
    "duration": 2845,
    "start_time": "2023-04-08T10:14:05.136Z"
   },
   {
    "duration": 5,
    "start_time": "2023-04-08T10:14:07.983Z"
   },
   {
    "duration": 5,
    "start_time": "2023-04-08T10:14:07.990Z"
   },
   {
    "duration": 57335,
    "start_time": "2023-04-08T10:14:07.997Z"
   },
   {
    "duration": 0,
    "start_time": "2023-04-08T10:15:05.334Z"
   },
   {
    "duration": 0,
    "start_time": "2023-04-08T10:15:05.336Z"
   },
   {
    "duration": 0,
    "start_time": "2023-04-08T10:15:05.338Z"
   },
   {
    "duration": 0,
    "start_time": "2023-04-08T10:15:05.340Z"
   },
   {
    "duration": 1,
    "start_time": "2023-04-08T10:15:05.341Z"
   },
   {
    "duration": 0,
    "start_time": "2023-04-08T10:15:05.343Z"
   },
   {
    "duration": 0,
    "start_time": "2023-04-08T10:15:05.345Z"
   },
   {
    "duration": 0,
    "start_time": "2023-04-08T10:15:05.347Z"
   },
   {
    "duration": 161429,
    "start_time": "2023-04-08T10:15:13.218Z"
   },
   {
    "duration": 487677,
    "start_time": "2023-04-08T10:17:54.649Z"
   },
   {
    "duration": 6459771,
    "start_time": "2023-04-08T10:26:02.328Z"
   },
   {
    "duration": 7556848,
    "start_time": "2023-04-08T12:13:42.101Z"
   },
   {
    "duration": 18,
    "start_time": "2023-04-08T14:19:38.951Z"
   },
   {
    "duration": 388,
    "start_time": "2023-04-08T14:19:38.971Z"
   },
   {
    "duration": 1253,
    "start_time": "2023-04-08T14:19:39.361Z"
   },
   {
    "duration": 827,
    "start_time": "2023-04-08T14:19:40.617Z"
   },
   {
    "duration": 1115732,
    "start_time": "2023-04-08T14:19:41.447Z"
   },
   {
    "duration": 2480,
    "start_time": "2023-04-08T21:00:01.519Z"
   },
   {
    "duration": 4123,
    "start_time": "2023-04-08T21:00:04.001Z"
   },
   {
    "duration": 16,
    "start_time": "2023-04-08T21:00:08.126Z"
   },
   {
    "duration": 43,
    "start_time": "2023-04-08T21:00:08.144Z"
   },
   {
    "duration": 11,
    "start_time": "2023-04-08T21:00:08.190Z"
   },
   {
    "duration": 19,
    "start_time": "2023-04-08T21:00:08.203Z"
   },
   {
    "duration": 13,
    "start_time": "2023-04-08T21:00:08.224Z"
   },
   {
    "duration": 10,
    "start_time": "2023-04-08T21:00:08.239Z"
   },
   {
    "duration": 29,
    "start_time": "2023-04-08T21:00:08.251Z"
   },
   {
    "duration": 5,
    "start_time": "2023-04-08T21:00:08.283Z"
   },
   {
    "duration": 4,
    "start_time": "2023-04-08T21:00:08.289Z"
   },
   {
    "duration": 5,
    "start_time": "2023-04-08T21:00:08.294Z"
   },
   {
    "duration": 7,
    "start_time": "2023-04-08T21:00:08.301Z"
   },
   {
    "duration": 8291,
    "start_time": "2023-04-08T21:00:08.311Z"
   },
   {
    "duration": 169,
    "start_time": "2023-04-08T21:00:16.605Z"
   },
   {
    "duration": 476,
    "start_time": "2023-04-08T21:00:16.776Z"
   },
   {
    "duration": 5,
    "start_time": "2023-04-08T21:00:17.254Z"
   },
   {
    "duration": 10,
    "start_time": "2023-04-08T21:00:17.261Z"
   },
   {
    "duration": 46251,
    "start_time": "2023-04-08T21:00:17.273Z"
   },
   {
    "duration": 1402,
    "start_time": "2023-04-08T21:01:23.280Z"
   },
   {
    "duration": 1674,
    "start_time": "2023-04-08T21:01:24.684Z"
   },
   {
    "duration": 17,
    "start_time": "2023-04-08T21:01:26.360Z"
   },
   {
    "duration": 34,
    "start_time": "2023-04-08T21:01:26.379Z"
   },
   {
    "duration": 12,
    "start_time": "2023-04-08T21:01:26.423Z"
   },
   {
    "duration": 5,
    "start_time": "2023-04-08T21:01:26.437Z"
   },
   {
    "duration": 10,
    "start_time": "2023-04-08T21:01:26.444Z"
   },
   {
    "duration": 12,
    "start_time": "2023-04-08T21:01:26.456Z"
   },
   {
    "duration": 10,
    "start_time": "2023-04-08T21:01:26.470Z"
   },
   {
    "duration": 10,
    "start_time": "2023-04-08T21:01:26.482Z"
   },
   {
    "duration": 13,
    "start_time": "2023-04-08T21:01:26.494Z"
   },
   {
    "duration": 14,
    "start_time": "2023-04-08T21:01:26.509Z"
   },
   {
    "duration": 19,
    "start_time": "2023-04-08T21:01:26.525Z"
   },
   {
    "duration": 8040,
    "start_time": "2023-04-08T21:01:26.547Z"
   },
   {
    "duration": 177,
    "start_time": "2023-04-08T21:01:34.590Z"
   },
   {
    "duration": 448,
    "start_time": "2023-04-08T21:01:34.769Z"
   },
   {
    "duration": 5,
    "start_time": "2023-04-08T21:01:35.219Z"
   },
   {
    "duration": 3,
    "start_time": "2023-04-08T21:01:35.226Z"
   },
   {
    "duration": 44142,
    "start_time": "2023-04-08T21:01:35.231Z"
   },
   {
    "duration": 111211,
    "start_time": "2023-04-08T21:02:19.375Z"
   },
   {
    "duration": 451306,
    "start_time": "2023-04-08T21:04:10.588Z"
   },
   {
    "duration": 0,
    "start_time": "2023-04-08T21:11:41.895Z"
   },
   {
    "duration": 0,
    "start_time": "2023-04-08T21:11:41.897Z"
   },
   {
    "duration": 0,
    "start_time": "2023-04-08T21:11:41.898Z"
   },
   {
    "duration": 0,
    "start_time": "2023-04-08T21:11:41.899Z"
   },
   {
    "duration": 0,
    "start_time": "2023-04-08T21:11:41.900Z"
   },
   {
    "duration": 0,
    "start_time": "2023-04-08T21:11:41.901Z"
   },
   {
    "duration": 1430,
    "start_time": "2023-04-08T21:18:25.789Z"
   },
   {
    "duration": 1724,
    "start_time": "2023-04-08T21:18:27.221Z"
   },
   {
    "duration": 18,
    "start_time": "2023-04-08T21:18:28.947Z"
   },
   {
    "duration": 33,
    "start_time": "2023-04-08T21:18:28.967Z"
   },
   {
    "duration": 21,
    "start_time": "2023-04-08T21:18:29.002Z"
   },
   {
    "duration": 6,
    "start_time": "2023-04-08T21:18:29.025Z"
   },
   {
    "duration": 10,
    "start_time": "2023-04-08T21:18:29.033Z"
   },
   {
    "duration": 6,
    "start_time": "2023-04-08T21:18:29.045Z"
   },
   {
    "duration": 4,
    "start_time": "2023-04-08T21:18:29.052Z"
   },
   {
    "duration": 13,
    "start_time": "2023-04-08T21:18:29.058Z"
   },
   {
    "duration": 3,
    "start_time": "2023-04-08T21:18:29.073Z"
   },
   {
    "duration": 4,
    "start_time": "2023-04-08T21:18:29.078Z"
   },
   {
    "duration": 10,
    "start_time": "2023-04-08T21:18:29.083Z"
   },
   {
    "duration": 7830,
    "start_time": "2023-04-08T21:18:29.095Z"
   },
   {
    "duration": 229,
    "start_time": "2023-04-08T21:18:36.927Z"
   },
   {
    "duration": 447,
    "start_time": "2023-04-08T21:18:37.158Z"
   },
   {
    "duration": 5,
    "start_time": "2023-04-08T21:18:37.607Z"
   },
   {
    "duration": 14,
    "start_time": "2023-04-08T21:18:37.613Z"
   },
   {
    "duration": 338311,
    "start_time": "2023-04-08T21:18:37.628Z"
   },
   {
    "duration": 109551,
    "start_time": "2023-04-08T21:24:15.940Z"
   },
   {
    "duration": 2112327,
    "start_time": "2023-04-08T21:26:05.493Z"
   },
   {
    "duration": 133,
    "start_time": "2023-04-08T22:01:17.822Z"
   },
   {
    "duration": 0,
    "start_time": "2023-04-08T22:01:17.957Z"
   },
   {
    "duration": 0,
    "start_time": "2023-04-08T22:01:17.958Z"
   },
   {
    "duration": 0,
    "start_time": "2023-04-08T22:01:17.959Z"
   },
   {
    "duration": 0,
    "start_time": "2023-04-08T22:01:17.960Z"
   },
   {
    "duration": 0,
    "start_time": "2023-04-08T22:01:17.961Z"
   },
   {
    "duration": 1151,
    "start_time": "2023-04-08T22:08:17.155Z"
   },
   {
    "duration": 1170,
    "start_time": "2023-04-08T22:10:06.746Z"
   },
   {
    "duration": 17942,
    "start_time": "2023-04-08T22:10:16.466Z"
   },
   {
    "duration": 1265,
    "start_time": "2023-04-08T22:10:37.033Z"
   },
   {
    "duration": 2073013,
    "start_time": "2023-04-08T22:10:54.931Z"
   },
   {
    "duration": 2790442,
    "start_time": "2023-04-08T22:45:27.946Z"
   },
   {
    "duration": 7,
    "start_time": "2023-04-08T23:31:58.389Z"
   },
   {
    "duration": 39138,
    "start_time": "2023-04-08T23:31:58.398Z"
   },
   {
    "duration": 396,
    "start_time": "2023-04-08T23:32:37.537Z"
   },
   {
    "duration": 265,
    "start_time": "2023-04-08T23:32:37.934Z"
   },
   {
    "duration": 372469,
    "start_time": "2023-04-08T23:32:38.201Z"
   },
   {
    "duration": 23,
    "start_time": "2023-04-09T08:32:54.928Z"
   },
   {
    "duration": 1467,
    "start_time": "2023-04-09T08:36:56.804Z"
   },
   {
    "duration": 1760,
    "start_time": "2023-04-09T08:36:58.273Z"
   },
   {
    "duration": 19,
    "start_time": "2023-04-09T08:37:00.035Z"
   },
   {
    "duration": 54,
    "start_time": "2023-04-09T08:37:00.056Z"
   },
   {
    "duration": 17,
    "start_time": "2023-04-09T08:37:00.114Z"
   },
   {
    "duration": 23,
    "start_time": "2023-04-09T08:37:00.133Z"
   },
   {
    "duration": 47,
    "start_time": "2023-04-09T08:37:00.159Z"
   },
   {
    "duration": 55,
    "start_time": "2023-04-09T08:37:00.208Z"
   },
   {
    "duration": 35,
    "start_time": "2023-04-09T08:37:00.265Z"
   },
   {
    "duration": 36,
    "start_time": "2023-04-09T08:37:00.302Z"
   },
   {
    "duration": 50,
    "start_time": "2023-04-09T08:37:00.341Z"
   },
   {
    "duration": 55,
    "start_time": "2023-04-09T08:37:00.394Z"
   },
   {
    "duration": 35,
    "start_time": "2023-04-09T08:37:00.451Z"
   },
   {
    "duration": 12499,
    "start_time": "2023-04-09T08:37:00.491Z"
   },
   {
    "duration": 160,
    "start_time": "2023-04-09T08:37:12.993Z"
   },
   {
    "duration": 731,
    "start_time": "2023-04-09T08:37:13.156Z"
   },
   {
    "duration": 6,
    "start_time": "2023-04-09T08:37:13.888Z"
   },
   {
    "duration": 17,
    "start_time": "2023-04-09T08:37:13.895Z"
   },
   {
    "duration": 324892,
    "start_time": "2023-04-09T08:37:13.914Z"
   },
   {
    "duration": 193058,
    "start_time": "2023-04-09T08:42:38.808Z"
   },
   {
    "duration": 766269,
    "start_time": "2023-04-09T08:45:51.868Z"
   },
   {
    "duration": 0,
    "start_time": "2023-04-09T08:58:38.139Z"
   },
   {
    "duration": 0,
    "start_time": "2023-04-09T08:58:38.141Z"
   },
   {
    "duration": 0,
    "start_time": "2023-04-09T08:58:38.142Z"
   },
   {
    "duration": 0,
    "start_time": "2023-04-09T08:58:38.144Z"
   },
   {
    "duration": 0,
    "start_time": "2023-04-09T08:58:38.145Z"
   },
   {
    "duration": 0,
    "start_time": "2023-04-09T08:58:38.146Z"
   },
   {
    "duration": 1413,
    "start_time": "2023-04-09T08:59:13.178Z"
   },
   {
    "duration": 1842,
    "start_time": "2023-04-09T08:59:14.594Z"
   },
   {
    "duration": 17,
    "start_time": "2023-04-09T08:59:16.438Z"
   },
   {
    "duration": 39,
    "start_time": "2023-04-09T08:59:16.457Z"
   },
   {
    "duration": 11,
    "start_time": "2023-04-09T08:59:16.498Z"
   },
   {
    "duration": 23,
    "start_time": "2023-04-09T08:59:16.511Z"
   },
   {
    "duration": 18,
    "start_time": "2023-04-09T08:59:16.536Z"
   },
   {
    "duration": 36,
    "start_time": "2023-04-09T08:59:16.556Z"
   },
   {
    "duration": 4,
    "start_time": "2023-04-09T08:59:16.594Z"
   },
   {
    "duration": 14,
    "start_time": "2023-04-09T08:59:16.601Z"
   },
   {
    "duration": 20,
    "start_time": "2023-04-09T08:59:16.616Z"
   },
   {
    "duration": 37,
    "start_time": "2023-04-09T08:59:16.638Z"
   },
   {
    "duration": 5,
    "start_time": "2023-04-09T08:59:16.677Z"
   },
   {
    "duration": 15703,
    "start_time": "2023-04-09T08:59:16.684Z"
   },
   {
    "duration": 0,
    "start_time": "2023-04-09T08:59:32.389Z"
   },
   {
    "duration": 0,
    "start_time": "2023-04-09T08:59:32.390Z"
   },
   {
    "duration": 0,
    "start_time": "2023-04-09T08:59:32.391Z"
   },
   {
    "duration": 0,
    "start_time": "2023-04-09T08:59:32.392Z"
   },
   {
    "duration": 0,
    "start_time": "2023-04-09T08:59:32.394Z"
   },
   {
    "duration": 0,
    "start_time": "2023-04-09T08:59:32.395Z"
   },
   {
    "duration": 0,
    "start_time": "2023-04-09T08:59:32.396Z"
   },
   {
    "duration": 0,
    "start_time": "2023-04-09T08:59:32.397Z"
   },
   {
    "duration": 0,
    "start_time": "2023-04-09T08:59:32.398Z"
   },
   {
    "duration": 0,
    "start_time": "2023-04-09T08:59:32.399Z"
   },
   {
    "duration": 0,
    "start_time": "2023-04-09T08:59:32.400Z"
   },
   {
    "duration": 0,
    "start_time": "2023-04-09T08:59:32.424Z"
   },
   {
    "duration": 0,
    "start_time": "2023-04-09T08:59:32.425Z"
   },
   {
    "duration": 1462,
    "start_time": "2023-04-09T08:59:46.579Z"
   },
   {
    "duration": 1757,
    "start_time": "2023-04-09T08:59:48.043Z"
   },
   {
    "duration": 17,
    "start_time": "2023-04-09T08:59:49.802Z"
   },
   {
    "duration": 55,
    "start_time": "2023-04-09T08:59:49.820Z"
   },
   {
    "duration": 15,
    "start_time": "2023-04-09T08:59:49.878Z"
   },
   {
    "duration": 17,
    "start_time": "2023-04-09T08:59:49.895Z"
   },
   {
    "duration": 38,
    "start_time": "2023-04-09T08:59:49.914Z"
   },
   {
    "duration": 39,
    "start_time": "2023-04-09T08:59:49.954Z"
   },
   {
    "duration": 4,
    "start_time": "2023-04-09T08:59:49.995Z"
   },
   {
    "duration": 40,
    "start_time": "2023-04-09T08:59:50.001Z"
   },
   {
    "duration": 40,
    "start_time": "2023-04-09T08:59:50.043Z"
   },
   {
    "duration": 6,
    "start_time": "2023-04-09T08:59:50.085Z"
   },
   {
    "duration": 6,
    "start_time": "2023-04-09T08:59:50.093Z"
   },
   {
    "duration": 113897,
    "start_time": "2023-04-09T08:59:50.102Z"
   },
   {
    "duration": 263,
    "start_time": "2023-04-09T09:01:44.001Z"
   },
   {
    "duration": 8192,
    "start_time": "2023-04-09T09:01:44.265Z"
   },
   {
    "duration": 4,
    "start_time": "2023-04-09T09:01:52.459Z"
   },
   {
    "duration": 4,
    "start_time": "2023-04-09T09:01:52.464Z"
   },
   {
    "duration": 1487,
    "start_time": "2023-04-09T11:48:56.139Z"
   },
   {
    "duration": 1751,
    "start_time": "2023-04-09T11:48:57.637Z"
   },
   {
    "duration": 18,
    "start_time": "2023-04-09T11:48:59.389Z"
   },
   {
    "duration": 42,
    "start_time": "2023-04-09T11:48:59.410Z"
   },
   {
    "duration": 14,
    "start_time": "2023-04-09T11:48:59.454Z"
   },
   {
    "duration": 5,
    "start_time": "2023-04-09T11:48:59.470Z"
   },
   {
    "duration": 15,
    "start_time": "2023-04-09T11:48:59.477Z"
   },
   {
    "duration": 60,
    "start_time": "2023-04-09T11:48:59.494Z"
   },
   {
    "duration": 5,
    "start_time": "2023-04-09T11:48:59.556Z"
   },
   {
    "duration": 20,
    "start_time": "2023-04-09T11:48:59.562Z"
   },
   {
    "duration": 14,
    "start_time": "2023-04-09T11:48:59.584Z"
   },
   {
    "duration": 8,
    "start_time": "2023-04-09T11:48:59.600Z"
   },
   {
    "duration": 9,
    "start_time": "2023-04-09T11:48:59.612Z"
   },
   {
    "duration": 115141,
    "start_time": "2023-04-09T11:48:59.625Z"
   },
   {
    "duration": 167,
    "start_time": "2023-04-09T11:50:54.769Z"
   },
   {
    "duration": 7963,
    "start_time": "2023-04-09T11:50:54.937Z"
   },
   {
    "duration": 4,
    "start_time": "2023-04-09T11:51:02.902Z"
   },
   {
    "duration": 30,
    "start_time": "2023-04-09T11:51:02.908Z"
   },
   {
    "duration": 2048236,
    "start_time": "2023-04-09T11:51:02.939Z"
   },
   {
    "duration": 9268566,
    "start_time": "2023-04-09T12:25:11.177Z"
   },
   {
    "duration": 0,
    "start_time": "2023-04-10T08:21:41.126Z"
   },
   {
    "duration": 0,
    "start_time": "2023-04-10T08:21:41.127Z"
   },
   {
    "duration": 5350,
    "start_time": "2023-04-10T08:21:47.931Z"
   },
   {
    "duration": 1989798,
    "start_time": "2023-04-10T08:22:47.836Z"
   },
   {
    "duration": 1766902,
    "start_time": "2023-04-10T08:56:07.036Z"
   },
   {
    "duration": 0,
    "start_time": "2023-04-10T09:25:33.941Z"
   },
   {
    "duration": 0,
    "start_time": "2023-04-10T09:25:33.942Z"
   },
   {
    "duration": 0,
    "start_time": "2023-04-10T09:25:33.944Z"
   },
   {
    "duration": 0,
    "start_time": "2023-04-10T09:25:33.945Z"
   },
   {
    "duration": 0,
    "start_time": "2023-04-10T09:25:33.946Z"
   },
   {
    "duration": 64,
    "start_time": "2023-04-10T09:26:00.139Z"
   },
   {
    "duration": 411850,
    "start_time": "2023-04-10T09:26:06.000Z"
   },
   {
    "duration": 123266,
    "start_time": "2023-04-10T09:32:57.852Z"
   },
   {
    "duration": 0,
    "start_time": "2023-04-10T09:35:01.124Z"
   },
   {
    "duration": 0,
    "start_time": "2023-04-10T09:35:01.125Z"
   },
   {
    "duration": 0,
    "start_time": "2023-04-10T09:35:01.127Z"
   },
   {
    "duration": 25846,
    "start_time": "2023-04-10T09:35:04.212Z"
   },
   {
    "duration": 72435,
    "start_time": "2023-04-10T09:36:00.011Z"
   },
   {
    "duration": 0,
    "start_time": "2023-04-10T09:37:12.448Z"
   },
   {
    "duration": 0,
    "start_time": "2023-04-10T09:37:12.449Z"
   },
   {
    "duration": 0,
    "start_time": "2023-04-10T09:37:12.450Z"
   },
   {
    "duration": 0,
    "start_time": "2023-04-10T09:37:12.451Z"
   },
   {
    "duration": 0,
    "start_time": "2023-04-10T09:37:12.452Z"
   },
   {
    "duration": 0,
    "start_time": "2023-04-10T09:37:12.453Z"
   },
   {
    "duration": 497023,
    "start_time": "2023-04-10T09:37:18.724Z"
   },
   {
    "duration": 9364781,
    "start_time": "2023-04-10T09:45:35.748Z"
   },
   {
    "duration": 3266933,
    "start_time": "2023-04-10T12:21:40.531Z"
   },
   {
    "duration": 28,
    "start_time": "2023-04-10T13:16:07.467Z"
   },
   {
    "duration": 25938,
    "start_time": "2023-04-10T13:16:07.496Z"
   },
   {
    "duration": 8864,
    "start_time": "2023-04-10T13:16:33.437Z"
   },
   {
    "duration": 11016,
    "start_time": "2023-04-10T13:16:42.303Z"
   },
   {
    "duration": 29,
    "start_time": "2023-04-10T14:49:46.309Z"
   },
   {
    "duration": 48,
    "start_time": "2023-04-10T15:23:26.965Z"
   },
   {
    "duration": 19,
    "start_time": "2023-04-10T15:23:46.526Z"
   },
   {
    "duration": 19,
    "start_time": "2023-04-10T15:23:51.748Z"
   },
   {
    "duration": 51,
    "start_time": "2023-04-11T08:54:05.678Z"
   },
   {
    "duration": 11,
    "start_time": "2023-04-11T08:54:16.470Z"
   },
   {
    "duration": 10,
    "start_time": "2023-04-11T08:54:26.764Z"
   },
   {
    "duration": 1742,
    "start_time": "2023-04-11T09:22:53.628Z"
   },
   {
    "duration": 4715,
    "start_time": "2023-04-11T09:22:57.625Z"
   },
   {
    "duration": 37,
    "start_time": "2023-04-11T09:23:02.356Z"
   },
   {
    "duration": 121,
    "start_time": "2023-04-11T09:23:02.397Z"
   },
   {
    "duration": 57,
    "start_time": "2023-04-11T09:23:02.520Z"
   },
   {
    "duration": 15,
    "start_time": "2023-04-11T09:23:05.367Z"
   },
   {
    "duration": 1126,
    "start_time": "2023-04-11T09:23:07.595Z"
   },
   {
    "duration": 206,
    "start_time": "2023-04-11T09:23:17.097Z"
   },
   {
    "duration": 23762,
    "start_time": "2023-04-11T09:23:56.203Z"
   },
   {
    "duration": 35996,
    "start_time": "2023-04-11T09:24:24.611Z"
   },
   {
    "duration": 0,
    "start_time": "2023-04-11T09:27:24.031Z"
   },
   {
    "duration": 1774,
    "start_time": "2023-04-11T09:27:33.254Z"
   },
   {
    "duration": 2036,
    "start_time": "2023-04-11T09:27:35.033Z"
   },
   {
    "duration": 19,
    "start_time": "2023-04-11T09:27:37.071Z"
   },
   {
    "duration": 84,
    "start_time": "2023-04-11T09:27:37.099Z"
   },
   {
    "duration": 59,
    "start_time": "2023-04-11T09:27:37.186Z"
   },
   {
    "duration": 81,
    "start_time": "2023-04-11T09:27:37.250Z"
   },
   {
    "duration": 86,
    "start_time": "2023-04-11T09:27:37.333Z"
   },
   {
    "duration": 86,
    "start_time": "2023-04-11T09:27:37.422Z"
   },
   {
    "duration": 9,
    "start_time": "2023-04-11T09:27:37.510Z"
   },
   {
    "duration": 196,
    "start_time": "2023-04-11T09:27:37.521Z"
   },
   {
    "duration": 0,
    "start_time": "2023-04-11T09:27:37.719Z"
   },
   {
    "duration": 0,
    "start_time": "2023-04-11T09:27:37.721Z"
   },
   {
    "duration": 0,
    "start_time": "2023-04-11T09:27:37.722Z"
   },
   {
    "duration": 0,
    "start_time": "2023-04-11T09:27:37.724Z"
   },
   {
    "duration": 0,
    "start_time": "2023-04-11T09:27:37.725Z"
   },
   {
    "duration": 0,
    "start_time": "2023-04-11T09:27:37.726Z"
   },
   {
    "duration": 0,
    "start_time": "2023-04-11T09:27:37.727Z"
   },
   {
    "duration": 0,
    "start_time": "2023-04-11T09:27:37.728Z"
   },
   {
    "duration": 0,
    "start_time": "2023-04-11T09:27:37.748Z"
   },
   {
    "duration": 0,
    "start_time": "2023-04-11T09:27:37.748Z"
   },
   {
    "duration": 17,
    "start_time": "2023-04-11T09:28:04.677Z"
   },
   {
    "duration": 13,
    "start_time": "2023-04-11T09:34:27.174Z"
   },
   {
    "duration": 8,
    "start_time": "2023-04-11T09:35:01.170Z"
   },
   {
    "duration": 7,
    "start_time": "2023-04-11T09:35:07.809Z"
   },
   {
    "duration": 12,
    "start_time": "2023-04-11T09:35:13.026Z"
   },
   {
    "duration": 6,
    "start_time": "2023-04-11T09:35:13.932Z"
   },
   {
    "duration": 6,
    "start_time": "2023-04-11T09:35:19.626Z"
   },
   {
    "duration": 11,
    "start_time": "2023-04-11T09:35:26.276Z"
   },
   {
    "duration": 13,
    "start_time": "2023-04-11T09:35:40.069Z"
   },
   {
    "duration": 6,
    "start_time": "2023-04-11T09:35:48.409Z"
   },
   {
    "duration": 7,
    "start_time": "2023-04-11T09:35:57.580Z"
   },
   {
    "duration": 6,
    "start_time": "2023-04-11T09:36:17.009Z"
   },
   {
    "duration": 12,
    "start_time": "2023-04-11T09:37:09.371Z"
   },
   {
    "duration": 4,
    "start_time": "2023-04-11T09:38:02.728Z"
   },
   {
    "duration": 6,
    "start_time": "2023-04-11T09:38:14.360Z"
   },
   {
    "duration": 5,
    "start_time": "2023-04-11T09:38:15.671Z"
   },
   {
    "duration": 24,
    "start_time": "2023-04-11T09:38:26.531Z"
   },
   {
    "duration": 1767,
    "start_time": "2023-04-11T09:38:35.032Z"
   },
   {
    "duration": 5,
    "start_time": "2023-04-11T09:54:18.367Z"
   },
   {
    "duration": 8,
    "start_time": "2023-04-11T09:54:18.834Z"
   },
   {
    "duration": 14,
    "start_time": "2023-04-11T09:54:41.011Z"
   },
   {
    "duration": 4,
    "start_time": "2023-04-11T09:55:21.075Z"
   },
   {
    "duration": 2903,
    "start_time": "2023-04-11T09:55:22.073Z"
   },
   {
    "duration": 6,
    "start_time": "2023-04-11T09:56:23.264Z"
   },
   {
    "duration": 1516,
    "start_time": "2023-04-11T09:56:24.515Z"
   },
   {
    "duration": 5,
    "start_time": "2023-04-11T09:56:45.363Z"
   },
   {
    "duration": 1618,
    "start_time": "2023-04-11T09:56:47.458Z"
   },
   {
    "duration": 12,
    "start_time": "2023-04-11T09:57:05.547Z"
   },
   {
    "duration": 1948,
    "start_time": "2023-04-11T09:57:07.169Z"
   },
   {
    "duration": 1543,
    "start_time": "2023-04-11T10:01:38.073Z"
   },
   {
    "duration": 1885,
    "start_time": "2023-04-11T10:01:39.618Z"
   },
   {
    "duration": 19,
    "start_time": "2023-04-11T10:01:41.505Z"
   },
   {
    "duration": 50,
    "start_time": "2023-04-11T10:01:41.527Z"
   },
   {
    "duration": 17,
    "start_time": "2023-04-11T10:01:41.581Z"
   },
   {
    "duration": 24,
    "start_time": "2023-04-11T10:01:41.600Z"
   },
   {
    "duration": 9,
    "start_time": "2023-04-11T10:01:41.626Z"
   },
   {
    "duration": 44,
    "start_time": "2023-04-11T10:01:41.636Z"
   },
   {
    "duration": 18,
    "start_time": "2023-04-11T10:01:41.682Z"
   },
   {
    "duration": 24,
    "start_time": "2023-04-11T10:01:41.702Z"
   },
   {
    "duration": 36,
    "start_time": "2023-04-11T10:01:41.728Z"
   },
   {
    "duration": 2110,
    "start_time": "2023-04-11T10:01:41.771Z"
   },
   {
    "duration": 0,
    "start_time": "2023-04-11T10:01:43.884Z"
   },
   {
    "duration": 0,
    "start_time": "2023-04-11T10:01:43.885Z"
   },
   {
    "duration": 0,
    "start_time": "2023-04-11T10:01:43.887Z"
   },
   {
    "duration": 0,
    "start_time": "2023-04-11T10:01:43.888Z"
   },
   {
    "duration": 0,
    "start_time": "2023-04-11T10:01:43.889Z"
   },
   {
    "duration": 0,
    "start_time": "2023-04-11T10:01:43.891Z"
   },
   {
    "duration": 0,
    "start_time": "2023-04-11T10:01:43.891Z"
   },
   {
    "duration": 0,
    "start_time": "2023-04-11T10:01:43.894Z"
   },
   {
    "duration": 4,
    "start_time": "2023-04-11T10:05:48.910Z"
   },
   {
    "duration": 3030,
    "start_time": "2023-04-11T10:06:18.542Z"
   },
   {
    "duration": 1628,
    "start_time": "2023-04-11T10:09:14.927Z"
   },
   {
    "duration": 1727,
    "start_time": "2023-04-11T10:09:16.563Z"
   },
   {
    "duration": 16,
    "start_time": "2023-04-11T10:09:18.291Z"
   },
   {
    "duration": 63,
    "start_time": "2023-04-11T10:09:18.308Z"
   },
   {
    "duration": 44,
    "start_time": "2023-04-11T10:09:18.374Z"
   },
   {
    "duration": 75,
    "start_time": "2023-04-11T10:09:18.419Z"
   },
   {
    "duration": 31,
    "start_time": "2023-04-11T10:09:18.496Z"
   },
   {
    "duration": 49,
    "start_time": "2023-04-11T10:09:18.529Z"
   },
   {
    "duration": 36,
    "start_time": "2023-04-11T10:09:18.580Z"
   },
   {
    "duration": 21,
    "start_time": "2023-04-11T10:09:18.618Z"
   },
   {
    "duration": 44,
    "start_time": "2023-04-11T10:09:18.643Z"
   },
   {
    "duration": 36,
    "start_time": "2023-04-11T10:09:18.689Z"
   },
   {
    "duration": 2009,
    "start_time": "2023-04-11T10:09:18.727Z"
   },
   {
    "duration": 0,
    "start_time": "2023-04-11T10:09:20.738Z"
   },
   {
    "duration": 0,
    "start_time": "2023-04-11T10:09:20.739Z"
   },
   {
    "duration": 0,
    "start_time": "2023-04-11T10:09:20.745Z"
   },
   {
    "duration": 0,
    "start_time": "2023-04-11T10:09:20.745Z"
   },
   {
    "duration": 0,
    "start_time": "2023-04-11T10:09:20.747Z"
   },
   {
    "duration": 0,
    "start_time": "2023-04-11T10:09:20.747Z"
   },
   {
    "duration": 0,
    "start_time": "2023-04-11T10:09:20.748Z"
   },
   {
    "duration": 0,
    "start_time": "2023-04-11T10:09:20.749Z"
   },
   {
    "duration": 0,
    "start_time": "2023-04-11T10:09:20.750Z"
   },
   {
    "duration": 0,
    "start_time": "2023-04-11T10:09:20.751Z"
   },
   {
    "duration": 2523,
    "start_time": "2023-04-11T10:09:33.010Z"
   },
   {
    "duration": 36,
    "start_time": "2023-04-11T10:09:40.579Z"
   },
   {
    "duration": 2481,
    "start_time": "2023-04-11T10:11:23.080Z"
   },
   {
    "duration": 3,
    "start_time": "2023-04-11T10:12:09.930Z"
   },
   {
    "duration": 2313,
    "start_time": "2023-04-11T10:12:11.122Z"
   },
   {
    "duration": 8,
    "start_time": "2023-04-11T10:12:58.257Z"
   },
   {
    "duration": 5,
    "start_time": "2023-04-11T10:13:56.339Z"
   },
   {
    "duration": 2447,
    "start_time": "2023-04-11T10:13:59.619Z"
   },
   {
    "duration": 16,
    "start_time": "2023-04-11T10:14:31.842Z"
   },
   {
    "duration": 128504,
    "start_time": "2023-04-11T10:24:15.203Z"
   },
   {
    "duration": 54,
    "start_time": "2023-04-11T10:26:33.533Z"
   },
   {
    "duration": 13,
    "start_time": "2023-04-11T10:27:48.028Z"
   },
   {
    "duration": 6,
    "start_time": "2023-04-11T10:27:59.012Z"
   },
   {
    "duration": 6,
    "start_time": "2023-04-11T10:28:03.731Z"
   },
   {
    "duration": 6,
    "start_time": "2023-04-11T10:28:19.814Z"
   },
   {
    "duration": 1643,
    "start_time": "2023-04-11T10:31:21.427Z"
   },
   {
    "duration": 1886,
    "start_time": "2023-04-11T10:31:23.074Z"
   },
   {
    "duration": 21,
    "start_time": "2023-04-11T10:31:24.963Z"
   },
   {
    "duration": 69,
    "start_time": "2023-04-11T10:31:24.986Z"
   },
   {
    "duration": 46,
    "start_time": "2023-04-11T10:31:25.058Z"
   },
   {
    "duration": 46,
    "start_time": "2023-04-11T10:31:25.106Z"
   },
   {
    "duration": 120,
    "start_time": "2023-04-11T10:31:25.155Z"
   },
   {
    "duration": 229,
    "start_time": "2023-04-11T10:31:25.277Z"
   },
   {
    "duration": 5,
    "start_time": "2023-04-11T10:31:25.508Z"
   },
   {
    "duration": 59,
    "start_time": "2023-04-11T10:31:25.515Z"
   },
   {
    "duration": 148056,
    "start_time": "2023-04-11T10:31:25.576Z"
   },
   {
    "duration": 14,
    "start_time": "2023-04-11T10:33:53.634Z"
   },
   {
    "duration": 34,
    "start_time": "2023-04-11T10:33:53.650Z"
   },
   {
    "duration": 150,
    "start_time": "2023-04-11T10:33:53.687Z"
   },
   {
    "duration": 0,
    "start_time": "2023-04-11T10:33:53.839Z"
   },
   {
    "duration": 0,
    "start_time": "2023-04-11T10:33:53.851Z"
   },
   {
    "duration": 0,
    "start_time": "2023-04-11T10:33:53.855Z"
   },
   {
    "duration": 0,
    "start_time": "2023-04-11T10:33:53.857Z"
   },
   {
    "duration": 0,
    "start_time": "2023-04-11T10:33:53.858Z"
   },
   {
    "duration": 0,
    "start_time": "2023-04-11T10:33:53.859Z"
   },
   {
    "duration": 875,
    "start_time": "2023-04-11T10:34:46.056Z"
   },
   {
    "duration": 5,
    "start_time": "2023-04-11T10:34:48.527Z"
   },
   {
    "duration": 25518,
    "start_time": "2023-04-11T10:35:00.632Z"
   },
   {
    "duration": 125912,
    "start_time": "2023-04-11T10:35:26.156Z"
   },
   {
    "duration": 0,
    "start_time": "2023-04-11T10:37:32.070Z"
   },
   {
    "duration": 0,
    "start_time": "2023-04-11T10:37:32.071Z"
   },
   {
    "duration": 0,
    "start_time": "2023-04-11T10:37:32.072Z"
   },
   {
    "duration": 744,
    "start_time": "2023-04-11T10:37:35.698Z"
   },
   {
    "duration": 2317,
    "start_time": "2023-04-11T10:39:09.729Z"
   },
   {
    "duration": 2149,
    "start_time": "2023-04-11T10:39:12.048Z"
   },
   {
    "duration": 16,
    "start_time": "2023-04-11T10:39:14.199Z"
   },
   {
    "duration": 43,
    "start_time": "2023-04-11T10:39:14.217Z"
   },
   {
    "duration": 16,
    "start_time": "2023-04-11T10:39:14.263Z"
   },
   {
    "duration": 33,
    "start_time": "2023-04-11T10:39:14.280Z"
   },
   {
    "duration": 20,
    "start_time": "2023-04-11T10:39:14.315Z"
   },
   {
    "duration": 247,
    "start_time": "2023-04-11T10:39:14.337Z"
   },
   {
    "duration": 3,
    "start_time": "2023-04-11T10:39:14.586Z"
   },
   {
    "duration": 13,
    "start_time": "2023-04-11T10:39:14.591Z"
   },
   {
    "duration": 1309488,
    "start_time": "2023-04-11T10:39:14.606Z"
   },
   {
    "duration": 49,
    "start_time": "2023-04-11T11:01:04.097Z"
   },
   {
    "duration": 29,
    "start_time": "2023-04-11T11:01:04.148Z"
   },
   {
    "duration": 7385,
    "start_time": "2023-04-11T11:01:04.180Z"
   },
   {
    "duration": 5,
    "start_time": "2023-04-11T11:01:11.567Z"
   },
   {
    "duration": 498793,
    "start_time": "2023-04-11T11:01:11.574Z"
   },
   {
    "duration": 1429680,
    "start_time": "2023-04-11T11:09:30.368Z"
   },
   {
    "duration": 0,
    "start_time": "2023-04-11T11:33:20.051Z"
   },
   {
    "duration": 0,
    "start_time": "2023-04-11T11:33:20.054Z"
   },
   {
    "duration": 0,
    "start_time": "2023-04-11T11:33:20.055Z"
   },
   {
    "duration": 0,
    "start_time": "2023-04-11T11:33:20.056Z"
   },
   {
    "duration": 8,
    "start_time": "2023-04-11T11:42:53.862Z"
   },
   {
    "duration": 251,
    "start_time": "2023-04-11T11:43:57.364Z"
   },
   {
    "duration": 1636,
    "start_time": "2023-04-11T12:04:35.163Z"
   },
   {
    "duration": 1828,
    "start_time": "2023-04-11T12:04:36.801Z"
   },
   {
    "duration": 25,
    "start_time": "2023-04-11T12:04:38.631Z"
   },
   {
    "duration": 40,
    "start_time": "2023-04-11T12:04:38.659Z"
   },
   {
    "duration": 14,
    "start_time": "2023-04-11T12:04:38.702Z"
   },
   {
    "duration": 38,
    "start_time": "2023-04-11T12:04:38.718Z"
   },
   {
    "duration": 15,
    "start_time": "2023-04-11T12:04:38.759Z"
   },
   {
    "duration": 241,
    "start_time": "2023-04-11T12:04:38.776Z"
   },
   {
    "duration": 4,
    "start_time": "2023-04-11T12:04:39.020Z"
   },
   {
    "duration": 57,
    "start_time": "2023-04-11T12:04:39.026Z"
   },
   {
    "duration": 1424736,
    "start_time": "2023-04-11T12:04:39.086Z"
   },
   {
    "duration": 44,
    "start_time": "2023-04-11T12:28:23.824Z"
   },
   {
    "duration": 5,
    "start_time": "2023-04-11T12:28:23.869Z"
   },
   {
    "duration": 7551,
    "start_time": "2023-04-11T12:28:23.877Z"
   },
   {
    "duration": 4,
    "start_time": "2023-04-11T12:28:31.430Z"
   },
   {
    "duration": 479931,
    "start_time": "2023-04-11T12:28:31.442Z"
   },
   {
    "duration": 9674416,
    "start_time": "2023-04-11T12:36:31.376Z"
   },
   {
    "duration": 3387423,
    "start_time": "2023-04-11T15:17:45.795Z"
   },
   {
    "duration": 23069,
    "start_time": "2023-04-11T16:14:13.220Z"
   },
   {
    "duration": 19,
    "start_time": "2023-04-11T16:14:36.291Z"
   }
  ],
  "kernelspec": {
   "display_name": "Python 3 (ipykernel)",
   "language": "python",
   "name": "python3"
  },
  "language_info": {
   "codemirror_mode": {
    "name": "ipython",
    "version": 3
   },
   "file_extension": ".py",
   "mimetype": "text/x-python",
   "name": "python",
   "nbconvert_exporter": "python",
   "pygments_lexer": "ipython3",
   "version": "3.9.12"
  },
  "toc": {
   "base_numbering": 1,
   "nav_menu": {},
   "number_sections": true,
   "sideBar": true,
   "skip_h1_title": true,
   "title_cell": "Содержание",
   "title_sidebar": "Contents",
   "toc_cell": true,
   "toc_position": {
    "height": "calc(100% - 180px)",
    "left": "10px",
    "top": "150px",
    "width": "302.391px"
   },
   "toc_section_display": true,
   "toc_window_display": false
  }
 },
 "nbformat": 4,
 "nbformat_minor": 2
}
